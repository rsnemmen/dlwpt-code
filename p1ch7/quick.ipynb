{
 "cells": [
  {
   "cell_type": "markdown",
   "id": "e2c36743-9cca-47e5-a3eb-9b1df3d70661",
   "metadata": {},
   "source": [
    "Quickly training a model with a GPU\n",
    "================================="
   ]
  },
  {
   "cell_type": "code",
   "execution_count": 1,
   "id": "4ec10cdf-d5b0-4ed8-b2f0-b253e4d78645",
   "metadata": {},
   "outputs": [
    {
     "name": "stderr",
     "output_type": "stream",
     "text": [
      "/share/software/user/open/py-torchvision/0.15.1_py39/lib/python3.9/site-packages/torchvision/io/image.py:13: UserWarning: Failed to load image Python extension: 'libpng16.so.16: cannot open shared object file: No such file or directory'If you don't plan on using image functionality from `torchvision.io`, you can ignore this warning. Otherwise, there might be something wrong with your environment. Did you have `libjpeg` or `libpng` installed before building `torchvision` from source?\n",
      "  warn(\n"
     ]
    }
   ],
   "source": [
    "import torchvision\n",
    "import numpy as np"
   ]
  },
  {
   "cell_type": "code",
   "execution_count": 4,
   "id": "5287605f-db53-4167-9f3e-0f69a4cd48d6",
   "metadata": {},
   "outputs": [
    {
     "name": "stdout",
     "output_type": "stream",
     "text": [
      "Downloading https://www.cs.toronto.edu/~kriz/cifar-10-python.tar.gz to ./data-unversioned/p1ch7/cifar-10-python.tar.gz\n"
     ]
    },
    {
     "name": "stderr",
     "output_type": "stream",
     "text": [
      "87.3%IOPub message rate exceeded.\n",
      "The Jupyter server will temporarily stop sending output\n",
      "to the client in order to avoid crashing it.\n",
      "To change this limit, set the config variable\n",
      "`--ServerApp.iopub_msg_rate_limit`.\n",
      "\n",
      "Current values:\n",
      "ServerApp.iopub_msg_rate_limit=1000.0 (msgs/sec)\n",
      "ServerApp.rate_limit_window=3.0 (secs)\n",
      "\n"
     ]
    },
    {
     "name": "stdout",
     "output_type": "stream",
     "text": [
      "Extracting ./data-unversioned/p1ch7/cifar-10-python.tar.gz to ./data-unversioned/p1ch7/\n"
     ]
    }
   ],
   "source": [
    "from torchvision import datasets, transforms\n",
    "data_path = './data-unversioned/p1ch7/'\n",
    "cifar10 = datasets.CIFAR10(\n",
    "    data_path, train=True, download=True,\n",
    "    transform=transforms.Compose([\n",
    "        transforms.ToTensor(),\n",
    "        transforms.Normalize((0.4915, 0.4823, 0.4468),\n",
    "                             (0.2470, 0.2435, 0.2616))\n",
    "    ]))"
   ]
  },
  {
   "cell_type": "code",
   "execution_count": 5,
   "id": "b61ae643-9e89-47f1-989b-7b40c6a87de3",
   "metadata": {},
   "outputs": [
    {
     "name": "stdout",
     "output_type": "stream",
     "text": [
      "Files already downloaded and verified\n"
     ]
    }
   ],
   "source": [
    "cifar10_val = datasets.CIFAR10(\n",
    "    data_path, train=False, download=True,\n",
    "    transform=transforms.Compose([\n",
    "        transforms.ToTensor(),\n",
    "        transforms.Normalize((0.4915, 0.4823, 0.4468),\n",
    "                             (0.2470, 0.2435, 0.2616))\n",
    "    ]))"
   ]
  },
  {
   "cell_type": "code",
   "execution_count": 6,
   "id": "58bc69d4-c359-4944-982e-70dad6b5873c",
   "metadata": {},
   "outputs": [],
   "source": [
    "label_map = {0: 0, 2: 1}\n",
    "class_names = ['airplane', 'bird']\n",
    "cifar2 = [(img, label_map[label])\n",
    "          for img, label in cifar10 \n",
    "          if label in [0, 2]]\n",
    "cifar2_val = [(img, label_map[label])\n",
    "              for img, label in cifar10_val\n",
    "              if label in [0, 2]]"
   ]
  },
  {
   "cell_type": "code",
   "execution_count": 7,
   "id": "9af7f89b-278f-424f-850d-53a47627da16",
   "metadata": {},
   "outputs": [],
   "source": [
    "import torch\n",
    "import torch.nn as nn\n",
    "import torch.optim as optim"
   ]
  },
  {
   "cell_type": "code",
   "execution_count": 8,
   "id": "e2743b88-3195-4b8a-8b5c-600a44153920",
   "metadata": {},
   "outputs": [],
   "source": [
    "# Define the model\n",
    "model = nn.Sequential(\n",
    "    nn.Linear(3072, 512),\n",
    "    nn.Tanh(),\n",
    "    nn.Linear(512, 2),\n",
    "    nn.LogSoftmax(dim=1)\n",
    ")\n",
    "\n",
    "# Use CUDA if available, otherwise fall back to CPU\n",
    "device = torch.device(\"cuda\" if torch.cuda.is_available() else \"cpu\")\n",
    "model.to(device)\n",
    "\n",
    "learning_rate = 1e-2\n",
    "\n",
    "optimizer = optim.SGD(model.parameters(), lr=learning_rate)\n",
    "\n",
    "loss_fn = nn.NLLLoss()\n",
    "\n",
    "n_epochs = 100"
   ]
  },
  {
   "cell_type": "code",
   "execution_count": null,
   "id": "2b765d71-6617-476f-a18a-7cd34c4273bf",
   "metadata": {},
   "outputs": [
    {
     "name": "stdout",
     "output_type": "stream",
     "text": [
      "Epoch: 0, Loss: 5.427591\n",
      "Epoch: 1, Loss: 3.201755\n",
      "Epoch: 2, Loss: 1.762243\n",
      "Epoch: 3, Loss: 7.667615\n",
      "Epoch: 4, Loss: 6.297855\n",
      "Epoch: 5, Loss: 9.406637\n",
      "Epoch: 6, Loss: 6.982442\n",
      "Epoch: 7, Loss: 11.129004\n",
      "Epoch: 8, Loss: 11.049747\n",
      "Epoch: 9, Loss: 14.773157\n",
      "Epoch: 10, Loss: 9.121351\n",
      "Epoch: 11, Loss: 10.908458\n",
      "Epoch: 12, Loss: 6.499560\n",
      "Epoch: 13, Loss: 1.724881\n",
      "Epoch: 14, Loss: 0.798886\n",
      "Epoch: 15, Loss: 14.192886\n",
      "Epoch: 16, Loss: 0.632073\n",
      "Epoch: 17, Loss: 1.656201\n",
      "Epoch: 18, Loss: 8.583565\n",
      "Epoch: 19, Loss: 9.910131\n",
      "Epoch: 20, Loss: 4.277292\n",
      "Epoch: 21, Loss: 9.111123\n",
      "Epoch: 22, Loss: 2.234991\n",
      "Epoch: 23, Loss: 5.572625\n",
      "Epoch: 24, Loss: 10.969425\n",
      "Epoch: 25, Loss: 0.590908\n",
      "Epoch: 26, Loss: 2.187013\n",
      "Epoch: 27, Loss: 18.622108\n",
      "Epoch: 28, Loss: 12.665507\n",
      "Epoch: 29, Loss: 2.452235\n",
      "Epoch: 30, Loss: 13.054222\n",
      "Epoch: 31, Loss: 6.102131\n",
      "Epoch: 32, Loss: 14.398725\n",
      "Epoch: 33, Loss: 18.817417\n",
      "Epoch: 34, Loss: 11.913321\n",
      "Epoch: 35, Loss: 5.779989\n",
      "Epoch: 36, Loss: 9.647591\n",
      "Epoch: 37, Loss: 4.679677\n",
      "Epoch: 38, Loss: 9.801037\n",
      "Epoch: 39, Loss: 11.799767\n",
      "Epoch: 40, Loss: 9.679601\n",
      "Epoch: 41, Loss: 2.024084\n",
      "Epoch: 42, Loss: 13.753137\n",
      "Epoch: 43, Loss: 0.001014\n",
      "Epoch: 44, Loss: 5.039499\n",
      "Epoch: 45, Loss: 0.260930\n",
      "Epoch: 46, Loss: 0.974101\n",
      "Epoch: 47, Loss: 10.044248\n",
      "Epoch: 48, Loss: 6.382442\n",
      "Epoch: 49, Loss: 7.643064\n",
      "Epoch: 50, Loss: 18.094175\n",
      "Epoch: 51, Loss: 1.676455\n",
      "Epoch: 52, Loss: 8.880669\n",
      "Epoch: 53, Loss: 0.301169\n",
      "Epoch: 54, Loss: 5.429851\n",
      "Epoch: 55, Loss: 0.063170\n",
      "Epoch: 56, Loss: 6.071642\n",
      "Epoch: 57, Loss: 7.657574\n",
      "Epoch: 58, Loss: 8.328566\n",
      "Epoch: 59, Loss: 0.138788\n",
      "Epoch: 60, Loss: 3.480289\n",
      "Epoch: 61, Loss: 0.000017\n"
     ]
    }
   ],
   "source": [
    "for epoch in range(n_epochs):\n",
    "    for img, label in cifar2:\n",
    "        # Move data to GPU\n",
    "        img = img.to(device)\n",
    "        img = img.float().to(device)\n",
    "        label = torch.tensor([label]).to(device)\n",
    "\n",
    "        # Forward pass\n",
    "        out = model(img.view(-1).unsqueeze(0))\n",
    "        loss = loss_fn(out, label)\n",
    "\n",
    "        # Backward pass and optimization\n",
    "        optimizer.zero_grad()\n",
    "        loss.backward()\n",
    "        optimizer.step()\n",
    "\n",
    "    print(\"Epoch: %d, Loss: %f\" % (epoch, float(loss)))"
   ]
  },
  {
   "cell_type": "code",
   "execution_count": null,
   "id": "70e8c956-c8ca-4d7f-9e51-cac6fb51615b",
   "metadata": {},
   "outputs": [],
   "source": []
  }
 ],
 "metadata": {
  "kernelspec": {
   "display_name": "Python 3 (ipykernel)",
   "language": "python",
   "name": "python3"
  },
  "language_info": {
   "codemirror_mode": {
    "name": "ipython",
    "version": 3
   },
   "file_extension": ".py",
   "mimetype": "text/x-python",
   "name": "python",
   "nbconvert_exporter": "python",
   "pygments_lexer": "ipython3",
   "version": "3.9.0"
  }
 },
 "nbformat": 4,
 "nbformat_minor": 5
}
