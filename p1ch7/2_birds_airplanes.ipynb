{
 "cells": [
  {
   "cell_type": "markdown",
   "metadata": {},
   "source": [
    "Simple image classification using NNs\n",
    "=====================================\n",
    "\n",
    "With a fully connected network"
   ]
  },
  {
   "cell_type": "code",
   "execution_count": 1,
   "metadata": {},
   "outputs": [
    {
     "data": {
      "text/plain": [
       "<torch._C.Generator at 0x1209ab5f0>"
      ]
     },
     "execution_count": 1,
     "metadata": {},
     "output_type": "execute_result"
    }
   ],
   "source": [
    "%matplotlib inline\n",
    "from matplotlib import pyplot as plt\n",
    "import numpy as np\n",
    "import torch\n",
    "\n",
    "torch.set_printoptions(edgeitems=2)\n",
    "torch.manual_seed(123)"
   ]
  },
  {
   "cell_type": "markdown",
   "metadata": {},
   "source": [
    "For ASCII plots of training progress"
   ]
  },
  {
   "cell_type": "code",
   "execution_count": 2,
   "metadata": {},
   "outputs": [],
   "source": [
    "import asciichartpy\n",
    "from IPython.display import clear_output"
   ]
  },
  {
   "cell_type": "markdown",
   "metadata": {},
   "source": [
    "## Prepares the dataset"
   ]
  },
  {
   "cell_type": "code",
   "execution_count": 3,
   "metadata": {},
   "outputs": [],
   "source": [
    "class_names = ['airplane','automobile','bird','cat','deer',\n",
    "               'dog','frog','horse','ship','truck']"
   ]
  },
  {
   "cell_type": "code",
   "execution_count": 4,
   "metadata": {},
   "outputs": [],
   "source": [
    "from torchvision import datasets, transforms\n",
    "data_path = '../data-unversioned/p1ch7/'\n",
    "cifar10 = datasets.CIFAR10(\n",
    "    data_path, train=True, download=False,\n",
    "    transform=transforms.Compose([\n",
    "        transforms.ToTensor(),\n",
    "        transforms.Normalize((0.4915, 0.4823, 0.4468),\n",
    "                             (0.2470, 0.2435, 0.2616))\n",
    "    ]))"
   ]
  },
  {
   "cell_type": "code",
   "execution_count": 5,
   "metadata": {},
   "outputs": [],
   "source": [
    "cifar10_val = datasets.CIFAR10(\n",
    "    data_path, train=False, download=False,\n",
    "    transform=transforms.Compose([\n",
    "        transforms.ToTensor(),\n",
    "        transforms.Normalize((0.4915, 0.4823, 0.4468),\n",
    "                             (0.2470, 0.2435, 0.2616))\n",
    "    ]))"
   ]
  },
  {
   "cell_type": "markdown",
   "metadata": {},
   "source": [
    "Separate from the CIFAR data only birds and planes"
   ]
  },
  {
   "cell_type": "code",
   "execution_count": 6,
   "metadata": {},
   "outputs": [],
   "source": [
    "label_map = {0: 0, 2: 1}\n",
    "class_names = ['airplane', 'bird']\n",
    "cifar2 = [(img, label_map[label])\n",
    "          for img, label in cifar10 \n",
    "          if label in [0, 2]]\n",
    "cifar2_val = [(img, label_map[label])\n",
    "              for img, label in cifar10_val\n",
    "              if label in [0, 2]]"
   ]
  },
  {
   "cell_type": "markdown",
   "metadata": {},
   "source": [
    "## Fully connected NN\n",
    "\n",
    "- Input features match number of pixels in image\n",
    "- Output: categorical, number of classes, indicate classification probability\n",
    "\n",
    "![img description](fig7.7.png)"
   ]
  },
  {
   "cell_type": "code",
   "execution_count": 6,
   "metadata": {},
   "outputs": [],
   "source": [
    "import torch.nn as nn"
   ]
  },
  {
   "cell_type": "code",
   "execution_count": 7,
   "metadata": {},
   "outputs": [],
   "source": [
    "n_out = 2"
   ]
  },
  {
   "cell_type": "code",
   "execution_count": 8,
   "metadata": {},
   "outputs": [],
   "source": [
    "model = nn.Sequential(\n",
    "            nn.Linear(\n",
    "                3072,  # <1>\n",
    "                512,   # <2>\n",
    "            ),\n",
    "            nn.Tanh(),\n",
    "            nn.Linear(\n",
    "                512,   # <2>\n",
    "                n_out, # <3>\n",
    "            )\n",
    "        )"
   ]
  },
  {
   "cell_type": "markdown",
   "metadata": {},
   "source": [
    "### Softmax \n",
    "\n",
    "Softmax is a function that takes a vector of values and produces another vector of the same dimension, where the values satisfy the constraints to represent probabilities. \n",
    "\n",
    "#### PyTorch implementantion "
   ]
  },
  {
   "cell_type": "code",
   "execution_count": 9,
   "metadata": {},
   "outputs": [
    {
     "name": "stdout",
     "output_type": "stream",
     "text": [
      "tensor([0.0900, 0.2447, 0.6652])\n"
     ]
    }
   ],
   "source": [
    "import torch.nn.functional as F\n",
    "\n",
    "# Example tensor\n",
    "logits = torch.tensor([1.0, 2.0, 3.0])\n",
    "\n",
    "# Applying softmax\n",
    "softmax_output = F.softmax(logits, dim=0)\n",
    "\n",
    "print(softmax_output)"
   ]
  },
  {
   "cell_type": "code",
   "execution_count": 10,
   "metadata": {},
   "outputs": [
    {
     "data": {
      "text/plain": [
       "tensor(1.)"
      ]
     },
     "execution_count": 10,
     "metadata": {},
     "output_type": "execute_result"
    }
   ],
   "source": [
    "softmax_output.sum()"
   ]
  },
  {
   "cell_type": "markdown",
   "metadata": {},
   "source": [
    "#### By hand\n",
    "\n",
    "Implementing it by hand is easy:"
   ]
  },
  {
   "cell_type": "code",
   "execution_count": 11,
   "metadata": {},
   "outputs": [],
   "source": [
    "def softmax(x):\n",
    "    return torch.exp(x) / torch.exp(x).sum()"
   ]
  },
  {
   "cell_type": "code",
   "execution_count": 12,
   "metadata": {},
   "outputs": [
    {
     "data": {
      "text/plain": [
       "tensor([0.0900, 0.2447, 0.6652])"
      ]
     },
     "execution_count": 12,
     "metadata": {},
     "output_type": "execute_result"
    }
   ],
   "source": [
    "x = torch.tensor([1.0, 2.0, 3.0])\n",
    "\n",
    "softmax(x)"
   ]
  },
  {
   "cell_type": "code",
   "execution_count": 13,
   "metadata": {},
   "outputs": [
    {
     "data": {
      "text/plain": [
       "tensor(1.)"
      ]
     },
     "execution_count": 13,
     "metadata": {},
     "output_type": "execute_result"
    }
   ],
   "source": [
    "softmax(x).sum()"
   ]
  },
  {
   "cell_type": "markdown",
   "metadata": {},
   "source": [
    "#### Another implementation w/ `nn` module"
   ]
  },
  {
   "cell_type": "code",
   "execution_count": 14,
   "metadata": {},
   "outputs": [
    {
     "data": {
      "text/plain": [
       "tensor([[0.0900, 0.2447, 0.6652],\n",
       "        [0.0900, 0.2447, 0.6652]])"
      ]
     },
     "execution_count": 14,
     "metadata": {},
     "output_type": "execute_result"
    }
   ],
   "source": [
    "# you need to specify the dimension along which softmax is applied\n",
    "softmax = nn.Softmax(dim=1)\n",
    "\n",
    "x = torch.tensor([[1.0, 2.0, 3.0],\n",
    "                  [1.0, 2.0, 3.0]])\n",
    "\n",
    "softmax(x)"
   ]
  },
  {
   "cell_type": "markdown",
   "metadata": {},
   "source": [
    "### Equipping NN to output probabilities\n",
    "\n",
    "Add softmax to the end"
   ]
  },
  {
   "cell_type": "code",
   "execution_count": 15,
   "metadata": {},
   "outputs": [],
   "source": [
    "model = nn.Sequential(\n",
    "            nn.Linear(3072, 512),\n",
    "            nn.Tanh(),\n",
    "            nn.Linear(512, 2),\n",
    "            nn.Softmax(dim=1))"
   ]
  },
  {
   "cell_type": "markdown",
   "metadata": {},
   "source": [
    "### Test on one image\n",
    "\n",
    "Get one image to test the NN"
   ]
  },
  {
   "cell_type": "code",
   "execution_count": 16,
   "metadata": {},
   "outputs": [
    {
     "name": "stderr",
     "output_type": "stream",
     "text": [
      "Clipping input data to the valid range for imshow with RGB data ([0..1] for floats or [0..255] for integers).\n"
     ]
    },
    {
     "data": {
      "image/png": "[encoded data removed]",
      "text/plain": [
       "<Figure size 640x480 with 1 Axes>"
      ]
     },
     "metadata": {},
     "output_type": "display_data"
    }
   ],
   "source": [
    "img, _ = cifar2[0]\n",
    "\n",
    "plt.imshow(img.permute(1, 2, 0))\n",
    "plt.title('A random bird from CIFAR-10')\n",
    "plt.show()"
   ]
  },
  {
   "cell_type": "markdown",
   "metadata": {},
   "source": [
    "Turns image into 1D tensor"
   ]
  },
  {
   "cell_type": "code",
   "execution_count": 17,
   "metadata": {},
   "outputs": [],
   "source": [
    "img_batch = img.view(-1).unsqueeze(0)"
   ]
  },
  {
   "cell_type": "markdown",
   "metadata": {},
   "source": [
    "Inference from untrained model (random probabilities)"
   ]
  },
  {
   "cell_type": "code",
   "execution_count": 18,
   "metadata": {},
   "outputs": [
    {
     "data": {
      "text/plain": [
       "tensor([[0.4784, 0.5216]], grad_fn=<SoftmaxBackward0>)"
      ]
     },
     "execution_count": 18,
     "metadata": {},
     "output_type": "execute_result"
    }
   ],
   "source": [
    "out = model(img_batch)\n",
    "out"
   ]
  },
  {
   "cell_type": "markdown",
   "metadata": {},
   "source": [
    "0: airplanes\n",
    "1: birds\n",
    "\n",
    "The code below gives the network prediction"
   ]
  },
  {
   "cell_type": "code",
   "execution_count": 19,
   "metadata": {},
   "outputs": [
    {
     "data": {
      "text/plain": [
       "tensor([1])"
      ]
     },
     "execution_count": 19,
     "metadata": {},
     "output_type": "execute_result"
    }
   ],
   "source": [
    "_, index = torch.max(out, dim=1)\n",
    "\n",
    "index"
   ]
  },
  {
   "cell_type": "markdown",
   "metadata": {},
   "source": [
    "## Loss for classification\n",
    "\n",
    "One good choice is the negative log likelihood (NLL) defined as\n",
    "$$ {\\rm NLL} = - \\sum_{i=0}^{N} \\log p({\\rm correct}).$$\n",
    "\n",
    "Our loss for classification can be computed as follows. For each sample in the batch:\n",
    "\n",
    "1. Run the forward pass, and obtain the output values from the last (linear) layer.\n",
    "2. Compute their softmax, and obtain probabilities.\n",
    "3. Take the predicted probability corresponding to the correct class (the likelihood of the parameters). Note that we know what the correct class is because\n",
    "it’s a supervised problem—it’s our ground truth.\n",
    "4. Compute its logarithm, slap a minus sign in front of it, and add it to the loss."
   ]
  },
  {
   "cell_type": "markdown",
   "metadata": {
    "jp-MarkdownHeadingCollapsed": true
   },
   "source": [
    "### Comparison between loss definitions \n",
    "\n",
    "Not in the book"
   ]
  },
  {
   "cell_type": "code",
   "execution_count": 20,
   "metadata": {},
   "outputs": [
    {
     "data": {
      "text/plain": [
       "tensor([[1., 0.],\n",
       "        [1., 0.],\n",
       "        [0., 1.],\n",
       "        [0., 1.]])"
      ]
     },
     "execution_count": 20,
     "metadata": {},
     "output_type": "execute_result"
    }
   ],
   "source": [
    "out = torch.tensor([\n",
    "    [0.6, 0.4],\n",
    "    [0.9, 0.1],\n",
    "    [0.3, 0.7],\n",
    "    [0.2, 0.8],\n",
    "])\n",
    "class_index = torch.tensor([0, 0, 1, 1]).unsqueeze(1)\n",
    "\n",
    "truth = torch.zeros((4,2))\n",
    "truth.scatter_(dim=1, index=class_index, value=1.0)\n",
    "truth"
   ]
  },
  {
   "cell_type": "code",
   "execution_count": 21,
   "metadata": {},
   "outputs": [
    {
     "data": {
      "text/plain": [
       "tensor(0.1500)"
      ]
     },
     "execution_count": 21,
     "metadata": {},
     "output_type": "execute_result"
    }
   ],
   "source": [
    "def mse(out):\n",
    "    return ((out - truth) ** 2).sum(dim=1).mean()\n",
    "mse(out)"
   ]
  },
  {
   "cell_type": "code",
   "execution_count": 22,
   "metadata": {},
   "outputs": [
    {
     "data": {
      "text/plain": [
       "tensor([[0.6000],\n",
       "        [0.9000],\n",
       "        [0.7000],\n",
       "        [0.8000]])"
      ]
     },
     "execution_count": 22,
     "metadata": {},
     "output_type": "execute_result"
    }
   ],
   "source": [
    "out.gather(dim=1, index=class_index)"
   ]
  },
  {
   "cell_type": "code",
   "execution_count": 23,
   "metadata": {},
   "outputs": [
    {
     "data": {
      "text/plain": [
       "tensor([0.3024])"
      ]
     },
     "execution_count": 23,
     "metadata": {},
     "output_type": "execute_result"
    }
   ],
   "source": [
    "def likelihood(out):\n",
    "    prod = 1.0\n",
    "    for x in out.gather(dim=1, index=class_index):\n",
    "        prod *= x\n",
    "    return prod\n",
    "\n",
    "likelihood(out)"
   ]
  },
  {
   "cell_type": "code",
   "execution_count": 24,
   "metadata": {},
   "outputs": [
    {
     "data": {
      "text/plain": [
       "tensor([1.1960])"
      ]
     },
     "execution_count": 24,
     "metadata": {},
     "output_type": "execute_result"
    }
   ],
   "source": [
    "def neg_log_likelihood(out):\n",
    "    return -likelihood(out).log()\n",
    "\n",
    "neg_log_likelihood(out)"
   ]
  },
  {
   "cell_type": "code",
   "execution_count": 25,
   "metadata": {},
   "outputs": [
    {
     "data": {
      "text/plain": [
       "tensor([0.0750, 0.1500, 0.2500, 0.4750])"
      ]
     },
     "execution_count": 25,
     "metadata": {},
     "output_type": "execute_result"
    }
   ],
   "source": [
    "out0 = out.clone().detach()\n",
    "out0[0] = torch.tensor([0.9, 0.1]) # more right\n",
    "\n",
    "out2 = out.clone().detach()\n",
    "out2[0] = torch.tensor([0.4, 0.6]) # slightly wrong\n",
    "\n",
    "out3 = out.clone().detach()\n",
    "out3[0] = torch.tensor([0.1, 0.9]) # very wrong\n",
    "\n",
    "mse_comparison = torch.tensor([mse(o) for o in [out0, out, out2, out3]])\n",
    "mse_comparison"
   ]
  },
  {
   "cell_type": "code",
   "execution_count": 26,
   "metadata": {},
   "outputs": [
    {
     "data": {
      "text/plain": [
       "tensor([-50.0000,   0.0000,  66.6667, 216.6667])"
      ]
     },
     "execution_count": 26,
     "metadata": {},
     "output_type": "execute_result"
    }
   ],
   "source": [
    "((mse_comparison / mse_comparison[1]) - 1) * 100"
   ]
  },
  {
   "cell_type": "code",
   "execution_count": 27,
   "metadata": {},
   "outputs": [
    {
     "data": {
      "text/plain": [
       "tensor([0.7905, 1.1960, 1.6015, 2.9878])"
      ]
     },
     "execution_count": 27,
     "metadata": {},
     "output_type": "execute_result"
    }
   ],
   "source": [
    "nll_comparison = torch.tensor([neg_log_likelihood(o) \n",
    "                               for o in [out0, out, out2, out3]])\n",
    "nll_comparison"
   ]
  },
  {
   "cell_type": "code",
   "execution_count": 28,
   "metadata": {},
   "outputs": [
    {
     "data": {
      "text/plain": [
       "tensor([-33.9016,   0.0000,  33.9017, 149.8121])"
      ]
     },
     "execution_count": 28,
     "metadata": {},
     "output_type": "execute_result"
    }
   ],
   "source": [
    "((nll_comparison / nll_comparison[1]) - 1) * 100"
   ]
  },
  {
   "cell_type": "code",
   "execution_count": 29,
   "metadata": {},
   "outputs": [
    {
     "data": {
      "text/plain": [
       "tensor([[0., 1.]])"
      ]
     },
     "execution_count": 29,
     "metadata": {},
     "output_type": "execute_result"
    }
   ],
   "source": [
    "softmax = nn.Softmax(dim=1)\n",
    "\n",
    "log_softmax = nn.LogSoftmax(dim=1)\n",
    "\n",
    "x = torch.tensor([[0.0, 104.0]])\n",
    "\n",
    "softmax(x)"
   ]
  },
  {
   "cell_type": "code",
   "execution_count": 30,
   "metadata": {},
   "outputs": [
    {
     "data": {
      "text/plain": [
       "tensor([[0., 1.]])"
      ]
     },
     "execution_count": 30,
     "metadata": {},
     "output_type": "execute_result"
    }
   ],
   "source": [
    "softmax = nn.Softmax(dim=1)\n",
    "\n",
    "log_softmax = nn.LogSoftmax(dim=1)\n",
    "\n",
    "x = torch.tensor([[0.0, 104.0]])\n",
    "\n",
    "softmax(x)"
   ]
  },
  {
   "cell_type": "code",
   "execution_count": 31,
   "metadata": {},
   "outputs": [
    {
     "data": {
      "text/plain": [
       "tensor([[-inf, 0.]])"
      ]
     },
     "execution_count": 31,
     "metadata": {},
     "output_type": "execute_result"
    }
   ],
   "source": [
    "torch.log(softmax(x))"
   ]
  },
  {
   "cell_type": "code",
   "execution_count": 32,
   "metadata": {},
   "outputs": [
    {
     "data": {
      "text/plain": [
       "tensor([[-104.,    0.]])"
      ]
     },
     "execution_count": 32,
     "metadata": {},
     "output_type": "execute_result"
    }
   ],
   "source": [
    "log_softmax(x)"
   ]
  },
  {
   "cell_type": "code",
   "execution_count": 33,
   "metadata": {},
   "outputs": [
    {
     "data": {
      "text/plain": [
       "tensor([[0., 1.]])"
      ]
     },
     "execution_count": 33,
     "metadata": {},
     "output_type": "execute_result"
    }
   ],
   "source": [
    "torch.exp(log_softmax(x))"
   ]
  },
  {
   "cell_type": "markdown",
   "metadata": {},
   "source": [
    "### Modifying the NN"
   ]
  },
  {
   "cell_type": "code",
   "execution_count": 36,
   "metadata": {},
   "outputs": [],
   "source": [
    "model = nn.Sequential(\n",
    "            nn.Linear(3072, 512),\n",
    "            nn.Tanh(),\n",
    "            nn.Linear(512, 2),\n",
    "            nn.LogSoftmax(dim=1))"
   ]
  },
  {
   "cell_type": "code",
   "execution_count": 37,
   "metadata": {},
   "outputs": [],
   "source": [
    "loss = nn.NLLLoss()"
   ]
  },
  {
   "cell_type": "markdown",
   "metadata": {},
   "source": [
    "Test the loss with the previous image"
   ]
  },
  {
   "cell_type": "code",
   "execution_count": 38,
   "metadata": {},
   "outputs": [
    {
     "data": {
      "text/plain": [
       "tensor(0.7303, grad_fn=<NllLossBackward0>)"
      ]
     },
     "execution_count": 38,
     "metadata": {},
     "output_type": "execute_result"
    }
   ],
   "source": [
    "img, label = cifar2[0]\n",
    "\n",
    "out = model(img.view(-1).unsqueeze(0))\n",
    "\n",
    "loss(out, torch.tensor([label]))"
   ]
  },
  {
   "cell_type": "markdown",
   "metadata": {},
   "source": [
    "## Train the classifier"
   ]
  },
  {
   "cell_type": "code",
   "execution_count": 12,
   "metadata": {},
   "outputs": [],
   "source": [
    "import torch\n",
    "import torch.nn as nn\n",
    "import torch.optim as optim"
   ]
  },
  {
   "cell_type": "code",
   "execution_count": null,
   "metadata": {},
   "outputs": [],
   "source": [
    "model = nn.Sequential(\n",
    "            nn.Linear(3072, 512),\n",
    "            nn.Tanh(),\n",
    "            nn.Linear(512, 2),\n",
    "            nn.LogSoftmax(dim=1))\n",
    "\n",
    "# Use MPS if available, otherwise fall back to CPU\n",
    "#device = torch.device(\"mps\" if torch.backends.mps.is_built() else \"cpu\")\n",
    "#model.to(device)\n",
    "\n",
    "learning_rate = 1e-2\n",
    "\n",
    "optimizer = optim.SGD(model.parameters(), lr=learning_rate)\n",
    "\n",
    "loss_fn = nn.NLLLoss()"
   ]
  },
  {
   "cell_type": "markdown",
   "metadata": {},
   "source": [
    "### Approach A: updating the model over the whole dataset\n",
    "\n",
    "This is the most detailed approach. We evaluate the model with the entire dataset. However, it is slow!"
   ]
  },
  {
   "cell_type": "code",
   "execution_count": 16,
   "metadata": {},
   "outputs": [
    {
     "name": "stdout",
     "output_type": "stream",
     "text": [
      "              Epoch 99 , Loss 15.9819\n",
      "    1.35  ┤     ╭╮╭╮       ╭╮╭╮                               ╭╮╭╮  ╭───╮      ╭╮      ╭╮            ╭╮      ╭\n",
      "    0.93  ┤ ╭╮╭─╯╰╯╰──╮╭─╮╭╯╰╯╰╮╭───────────────╮╭╮╭╮     ╭╮╭─╯╰╯╰╮╭╯   ╰─╮╭───╯│╭──╮╭─╯╰╮╭╮ ╭╮ ╭╮   │╰╮     │\n",
      "    0.50  ┼─╯││       ╰╯ ╰╯    ╰╯               ╰╯╰╯╰─╮╭╮╭╯││     ╰╯      ╰╯    ╰╯  ╰╯   │││╭╯│╭╯╰─╮╭╯ │     │\n",
      "    0.07  ┤  ╰╯                                       ││╰╯ ││                            ╰╯││ ╰╯   ││  │     │\n",
      "   -0.36  ┤                                           ╰╯   ││                              ╰╯      ││  │╭╮ ╭╮│\n",
      "   -0.78  ┤                                                ││                                      ││  │││╭╯╰╯\n",
      "   -1.21  ┤                                                ╰╯                                      ││  ││││\n",
      "   -1.64  ┤                                                                                        ╰╯  ││││\n",
      "   -2.07  ┼                                                                                            ││││\n",
      "   -2.50  ┤                                                                                            ╰╯││\n",
      "   -2.92  ┤                                                                                              ╰╯\n",
      "   -3.35  ┤\n"
     ]
    }
   ],
   "source": [
    "%%time\n",
    "n_epochs = 100\n",
    "\n",
    "lossList=[]\n",
    "epochList=[]\n",
    "\n",
    "for epoch in range(n_epochs):\n",
    "    for img, label in cifar2:\n",
    "        # move data to GPU\n",
    "        #img = img.to(device)\n",
    "        #img = img.float().to(device)\n",
    "        #label = torch.tensor([label]).to(device)\n",
    "\n",
    "        out = model(img.view(-1).unsqueeze(0))\n",
    "        loss = loss_fn(out, torch.tensor([label]))\n",
    "                \n",
    "        optimizer.zero_grad()\n",
    "        loss.backward()\n",
    "        optimizer.step()\n",
    "\n",
    "    #print(\"Epoch: %d, Loss: %f\" % (epoch, float(loss)))\n",
    "    lossList.append(np.log10(float(loss)))\n",
    "    epochList.append(epoch)\n",
    "    clear_output(wait=True)\n",
    "    print(\"              Epoch\", epoch, \", Loss\",round(float(loss),4))\n",
    "    print(asciichartpy.plot(lossList, {'height': 10}))"
   ]
  },
  {
   "cell_type": "markdown",
   "metadata": {},
   "source": [
    "### Approach C: average updates using minibatches\n",
    "\n",
    "Here we pick a random subset of the data at each iteration of the training loop. This speeds up convergence, though at the cost of less accurate optimization."
   ]
  },
  {
   "cell_type": "code",
   "execution_count": 9,
   "metadata": {},
   "outputs": [],
   "source": [
    "import torch\n",
    "import torch.nn as nn\n",
    "import torch.optim as optim\n",
    "\n",
    "train_loader = torch.utils.data.DataLoader(cifar2, batch_size=64,\n",
    "                                           shuffle=True)"
   ]
  },
  {
   "cell_type": "code",
   "execution_count": 10,
   "metadata": {},
   "outputs": [],
   "source": [
    "model = nn.Sequential(\n",
    "            nn.Linear(3072, 512),\n",
    "            nn.Tanh(),\n",
    "            nn.Linear(512, 2),\n",
    "            nn.LogSoftmax(dim=1))\n",
    "\n",
    "learning_rate = 1e-2\n",
    "\n",
    "optimizer = optim.SGD(model.parameters(), lr=learning_rate)\n",
    "\n",
    "loss_fn = nn.NLLLoss()\n",
    "\n",
    "n_epochs = 100"
   ]
  },
  {
   "cell_type": "code",
   "execution_count": 11,
   "metadata": {},
   "outputs": [
    {
     "name": "stdout",
     "output_type": "stream",
     "text": [
      "              Epoch 99 , Loss 0.0188\n",
      "   -0.23  ┼─╮╭╮╭╮  ╭╮  ╭╮     ╭╮\n",
      "   -0.43  ┤ ╰╯╰╯│╭─╯╰─╮││ ╭╮╭─╯╰╮   ╭╮  ╭╮     ╭╮\n",
      "   -0.63  ┤     ╰╯    ╰╯╰─╯╰╯   ╰───╯╰──╯╰╮  ╭╮│╰╮    ╭╮                ╭╮\n",
      "   -0.84  ┤                               │╭─╯╰╯ ╰─╮╭╮││╭╮ ╭╮ ╭─╮      ╭╯╰╮\n",
      "   -1.04  ┤                               ╰╯       ╰╯││╰╯│ ││╭╯ ╰╮    ╭╯  │        ╭╮\n",
      "   -1.24  ┤                                          ╰╯  ╰─╯╰╯   ╰╮ ╭╮│   │╭──╮   ╭╯│╭╮    ╭──╮\n",
      "   -1.45  ┤                                                       │╭╯╰╯   ╰╯  ╰─╮ │ ││╰──╮ │  │  ╭╮\n",
      "   -1.65  ┤                                                       ╰╯            ╰─╯ ╰╯   │ │  ╰╮ ││  ╭──╮   ╭─\n",
      "   -1.85  ┤                                                                              ╰─╯   │╭╯╰╮╭╯  ╰╮╭─╯\n",
      "   -2.06  ┤                                                                                    ││  ╰╯    ╰╯\n",
      "   -2.26  ┤                                                                                    ╰╯\n",
      "   -2.47  ┤\n"
     ]
    }
   ],
   "source": [
    "lossList=[]\n",
    "epochList=[]\n",
    "\n",
    "for epoch in range(n_epochs):\n",
    "    for imgs, labels in train_loader:\n",
    "        outputs = model(imgs.view(imgs.shape[0], -1))\n",
    "        loss = loss_fn(outputs, labels)\n",
    "\n",
    "        optimizer.zero_grad()\n",
    "        loss.backward()\n",
    "        optimizer.step()\n",
    "\n",
    "    #print(\"Epoch: %d, Loss: %f\" % (epoch, float(loss)))\n",
    "    lossList.append(np.log10(float(loss)))\n",
    "    epochList.append(epoch)\n",
    "    clear_output(wait=True)\n",
    "    print(\"              Epoch\", epoch, \", Loss\",round(float(loss),4))\n",
    "    print(asciichartpy.plot(lossList, {'height': 10}))"
   ]
  },
  {
   "cell_type": "markdown",
   "metadata": {},
   "source": [
    "#### Checks accuracy of trained model"
   ]
  },
  {
   "cell_type": "markdown",
   "metadata": {},
   "source": [
    "Over the training dataset"
   ]
  },
  {
   "cell_type": "code",
   "execution_count": 63,
   "metadata": {},
   "outputs": [
    {
     "name": "stdout",
     "output_type": "stream",
     "text": [
      "Accuracy: 0.999000\n"
     ]
    }
   ],
   "source": [
    "train_loader = torch.utils.data.DataLoader(cifar2, batch_size=64,\n",
    "                                           shuffle=False)\n",
    "\n",
    "correct = 0\n",
    "total = 0\n",
    "\n",
    "with torch.no_grad():\n",
    "    for imgs, labels in train_loader:\n",
    "        outputs = model(imgs.view(imgs.shape[0], -1))\n",
    "        _, predicted = torch.max(outputs, dim=1)\n",
    "        total += labels.shape[0]\n",
    "        correct += int((predicted == labels).sum())\n",
    "        \n",
    "print(\"Accuracy: %f\" % (correct / total))"
   ]
  },
  {
   "cell_type": "markdown",
   "metadata": {},
   "source": [
    "Over the validation dataset"
   ]
  },
  {
   "cell_type": "code",
   "execution_count": 64,
   "metadata": {},
   "outputs": [
    {
     "name": "stdout",
     "output_type": "stream",
     "text": [
      "Accuracy: 0.814000\n"
     ]
    }
   ],
   "source": [
    "val_loader = torch.utils.data.DataLoader(cifar2_val, batch_size=64,\n",
    "                                         shuffle=False)\n",
    "\n",
    "correct = 0\n",
    "total = 0\n",
    "\n",
    "with torch.no_grad():\n",
    "    for imgs, labels in val_loader:\n",
    "        outputs = model(imgs.view(imgs.shape[0], -1))\n",
    "        _, predicted = torch.max(outputs, dim=1)\n",
    "        total += labels.shape[0]\n",
    "        correct += int((predicted == labels).sum())\n",
    "        \n",
    "print(\"Accuracy: %f\" % (correct / total))"
   ]
  },
  {
   "cell_type": "markdown",
   "metadata": {},
   "source": [
    "### More complicated architecture"
   ]
  },
  {
   "cell_type": "raw",
   "metadata": {},
   "source": [
    "model = nn.Sequential(\n",
    "            nn.Linear(3072, 1024),\n",
    "            nn.Tanh(),\n",
    "            nn.Linear(1024, 512),\n",
    "            nn.Tanh(),\n",
    "            nn.Linear(512, 128),\n",
    "            nn.Tanh(),\n",
    "            nn.Linear(128, 2),\n",
    "            nn.LogSoftmax(dim=1))"
   ]
  },
  {
   "cell_type": "markdown",
   "metadata": {},
   "source": [
    "The specification below is the same as with `nn.LogSoftmax` and `nn.NLLLoss`"
   ]
  },
  {
   "cell_type": "raw",
   "metadata": {},
   "source": [
    "model = nn.Sequential(\n",
    "            nn.Linear(3072, 1024),\n",
    "            nn.Tanh(),\n",
    "            nn.Linear(1024, 512),\n",
    "            nn.Tanh(),\n",
    "            nn.Linear(512, 128),\n",
    "            nn.Tanh(),\n",
    "            nn.Linear(128, 2))\n",
    "\n",
    "loss_fn = nn.CrossEntropyLoss()"
   ]
  },
  {
   "cell_type": "markdown",
   "metadata": {},
   "source": [
    "#### Training again"
   ]
  },
  {
   "cell_type": "code",
   "execution_count": 132,
   "metadata": {},
   "outputs": [],
   "source": [
    "import torch\n",
    "import torch.nn as nn\n",
    "import torch.optim as optim\n",
    "\n",
    "train_loader = torch.utils.data.DataLoader(cifar2, batch_size=64,\n",
    "                                           shuffle=True)\n",
    "\n",
    "model = nn.Sequential(\n",
    "            nn.Linear(3072, 1024),\n",
    "            nn.Tanh(),\n",
    "            nn.Linear(1024, 512),\n",
    "            nn.Tanh(),\n",
    "            nn.Linear(512, 128),\n",
    "            nn.Tanh(),\n",
    "            nn.Linear(128, 2))\n",
    "\n",
    "learning_rate = 1e-2\n",
    "\n",
    "optimizer = optim.SGD(model.parameters(), lr=learning_rate)\n",
    "\n",
    "loss_fn = nn.CrossEntropyLoss()\n",
    "\n",
    "n_epochs = 100"
   ]
  },
  {
   "cell_type": "code",
   "execution_count": 134,
   "metadata": {},
   "outputs": [
    {
     "name": "stdout",
     "output_type": "stream",
     "text": [
      "              Epoch 99 , Loss 0.0\n",
      "   -0.09  ┤                 ╭╮              ╭╮╭╮\n",
      "   -0.44  ┼──────────────╮╭─╯╰╮╭──╮╭╮ ╭╮   ╭╯││╰─╮                                    ╭╮\n",
      "   -0.79  ┤              ╰╯   ╰╯  ╰╯╰─╯╰╮╭─╯ ╰╯  ╰─╮   ╭╮ ╭╮  ╭╮         ╭╮           ││\n",
      "   -1.13  ┤                             ╰╯         ╰───╯╰─╯╰╮ ││     ╭╮  ││          ╭╯│          ╭╮\n",
      "   -1.48  ┤                                                 ╰─╯╰╮    ││  ││╭─╮    ╭╮ │ │          ││╭╮\n",
      "   -1.83  ┤                                                     ╰──╮ ││ ╭╯╰╯ │╭╮╭─╯╰╮│ ╰╮       ╭─╯│││    ╭╮\n",
      "   -2.18  ┤                                                        │╭╯╰─╯    ╰╯││   ╰╯  │ ╭───╮ │  ││╰╮ ╭╮││╭╮\n",
      "   -2.52  ┤                                                        ╰╯          ╰╯       ╰─╯   ╰╮│  ╰╯ ╰─╯╰╯│││\n",
      "   -2.87  ┤                                                                                    ╰╯          ││╰\n",
      "   -3.22  ┤                                                                                                ││\n",
      "   -3.56  ┤                                                                                                ╰╯\n",
      "   -3.91  ┼\n"
     ]
    }
   ],
   "source": [
    "lossList=[]\n",
    "epochList=[]\n",
    "\n",
    "for epoch in range(n_epochs):\n",
    "    for imgs, labels in train_loader:\n",
    "        outputs = model(imgs.view(imgs.shape[0], -1))\n",
    "        loss = loss_fn(outputs, labels)\n",
    "\n",
    "        optimizer.zero_grad()\n",
    "        loss.backward()\n",
    "        optimizer.step()\n",
    "\n",
    "    lossList.append(np.log10(float(loss)))\n",
    "    epochList.append(epoch)\n",
    "\n",
    "    #print(\"Epoch: %d, Loss: %f\" % (epoch, float(loss)))\n",
    "    clear_output(wait=True)\n",
    "    print(\"              Epoch\", epoch, \", Loss\",round(float(loss),4))\n",
    "    print(asciichartpy.plot(lossList, {'height': 10}))"
   ]
  },
  {
   "cell_type": "markdown",
   "metadata": {},
   "source": [
    "#### Training and validation accuracy"
   ]
  },
  {
   "cell_type": "code",
   "execution_count": 135,
   "metadata": {},
   "outputs": [
    {
     "name": "stdout",
     "output_type": "stream",
     "text": [
      "Accuracy: 0.999600\n"
     ]
    }
   ],
   "source": [
    "train_loader = torch.utils.data.DataLoader(cifar2, batch_size=64,\n",
    "                                           shuffle=False)\n",
    "\n",
    "correct = 0\n",
    "total = 0\n",
    "\n",
    "with torch.no_grad():\n",
    "    for imgs, labels in train_loader:\n",
    "        outputs = model(imgs.view(imgs.shape[0], -1))\n",
    "        _, predicted = torch.max(outputs, dim=1)\n",
    "        total += labels.shape[0]\n",
    "        correct += int((predicted == labels).sum())\n",
    "        \n",
    "print(\"Accuracy: %f\" % (correct / total))"
   ]
  },
  {
   "cell_type": "code",
   "execution_count": 136,
   "metadata": {},
   "outputs": [
    {
     "name": "stdout",
     "output_type": "stream",
     "text": [
      "Accuracy: 0.808000\n"
     ]
    }
   ],
   "source": [
    "val_loader = torch.utils.data.DataLoader(cifar2_val, batch_size=64,\n",
    "                                         shuffle=False)\n",
    "\n",
    "correct = 0\n",
    "total = 0\n",
    "\n",
    "with torch.no_grad():\n",
    "    for imgs, labels in val_loader:\n",
    "        outputs = model(imgs.view(imgs.shape[0], -1))\n",
    "        _, predicted = torch.max(outputs, dim=1)\n",
    "        total += labels.shape[0]\n",
    "        correct += int((predicted == labels).sum())\n",
    "        \n",
    "print(\"Accuracy: %f\" % (correct / total))"
   ]
  },
  {
   "cell_type": "markdown",
   "metadata": {},
   "source": [
    "#### Model complexity"
   ]
  },
  {
   "cell_type": "markdown",
   "metadata": {},
   "source": [
    "Number of parameters in NN"
   ]
  },
  {
   "cell_type": "code",
   "execution_count": 137,
   "metadata": {},
   "outputs": [
    {
     "data": {
      "text/plain": [
       "3737474"
      ]
     },
     "execution_count": 137,
     "metadata": {},
     "output_type": "execute_result"
    }
   ],
   "source": [
    "sum([p.numel() for p in model.parameters()])"
   ]
  },
  {
   "cell_type": "markdown",
   "metadata": {},
   "source": [
    "Number of *trainable* parameters in NN"
   ]
  },
  {
   "cell_type": "code",
   "execution_count": 139,
   "metadata": {},
   "outputs": [
    {
     "data": {
      "text/plain": [
       "3737474"
      ]
     },
     "execution_count": 139,
     "metadata": {},
     "output_type": "execute_result"
    }
   ],
   "source": [
    "sum([p.numel() \n",
    "     for p in model.parameters() \n",
    "     if p.requires_grad == True])"
   ]
  },
  {
   "cell_type": "markdown",
   "metadata": {},
   "source": [
    "##### Manual calculation\n",
    "\n",
    "Here is the manual calculation of the number of parameters for the network below.\n",
    "\n",
    "```python\n",
    "      nn.Linear(3072, 1024),\n",
    "            nn.Tanh(),\n",
    "            nn.Linear(1024, 512),\n",
    "            nn.Tanh(),\n",
    "            nn.Linear(512, 128),\n",
    "            nn.Tanh(),\n",
    "            nn.Linear(128, 2))\n",
    "```\n",
    "\n",
    "For each layer, the number of parameters is $$N(N_{\\rm in},N_{\\rm out}) = N_{\\rm in} \\times N_{\\rm out} + N_{\\rm out} = N_{\\rm out} (1+N_{\\rm in} ).$$ \n",
    "Thus, for the network above we have"
   ]
  },
  {
   "cell_type": "code",
   "execution_count": 145,
   "metadata": {},
   "outputs": [],
   "source": [
    "nparam = lambda nin,nout: nout*(1+nin)   "
   ]
  },
  {
   "cell_type": "code",
   "execution_count": 153,
   "metadata": {},
   "outputs": [
    {
     "data": {
      "text/plain": [
       "3737474"
      ]
     },
     "execution_count": 153,
     "metadata": {},
     "output_type": "execute_result"
    }
   ],
   "source": [
    "nparam(3072,1024) + nparam(1024,512) + nparam(512,128) + nparam(128,2)"
   ]
  },
  {
   "cell_type": "code",
   "execution_count": 46,
   "metadata": {},
   "outputs": [
    {
     "data": {
      "text/plain": [
       "1574402"
      ]
     },
     "execution_count": 46,
     "metadata": {},
     "output_type": "execute_result"
    }
   ],
   "source": [
    "first_model = nn.Sequential(\n",
    "                nn.Linear(3072, 512),\n",
    "                nn.Tanh(),\n",
    "                nn.Linear(512, 2),\n",
    "                nn.LogSoftmax(dim=1))\n",
    "\n",
    "sum([p.numel() for p in first_model.parameters()])"
   ]
  },
  {
   "cell_type": "markdown",
   "metadata": {},
   "source": [
    "## Other stuff below"
   ]
  },
  {
   "cell_type": "code",
   "execution_count": 47,
   "metadata": {},
   "outputs": [
    {
     "data": {
      "text/plain": [
       "1573376"
      ]
     },
     "execution_count": 47,
     "metadata": {},
     "output_type": "execute_result"
    }
   ],
   "source": [
    "sum([p.numel() for p in nn.Linear(3072, 512).parameters()])"
   ]
  },
  {
   "cell_type": "code",
   "execution_count": 48,
   "metadata": {},
   "outputs": [
    {
     "data": {
      "text/plain": [
       "3146752"
      ]
     },
     "execution_count": 48,
     "metadata": {},
     "output_type": "execute_result"
    }
   ],
   "source": [
    "sum([p.numel() for p in nn.Linear(3072, 1024).parameters()])"
   ]
  },
  {
   "cell_type": "code",
   "execution_count": 49,
   "metadata": {},
   "outputs": [
    {
     "data": {
      "text/plain": [
       "(torch.Size([1024, 3072]), torch.Size([1024]))"
      ]
     },
     "execution_count": 49,
     "metadata": {},
     "output_type": "execute_result"
    }
   ],
   "source": [
    "linear = nn.Linear(3072, 1024)\n",
    "\n",
    "linear.weight.shape, linear.bias.shape"
   ]
  },
  {
   "cell_type": "code",
   "execution_count": 50,
   "metadata": {},
   "outputs": [],
   "source": [
    "conv = nn.Conv2d(3, 16, kernel_size=3)"
   ]
  },
  {
   "cell_type": "code",
   "execution_count": 51,
   "metadata": {},
   "outputs": [
    {
     "data": {
      "text/plain": [
       "torch.Size([16, 3, 3, 3])"
      ]
     },
     "execution_count": 51,
     "metadata": {},
     "output_type": "execute_result"
    }
   ],
   "source": [
    "conv.weight.shape"
   ]
  },
  {
   "cell_type": "code",
   "execution_count": 52,
   "metadata": {},
   "outputs": [
    {
     "data": {
      "text/plain": [
       "torch.Size([16])"
      ]
     },
     "execution_count": 52,
     "metadata": {},
     "output_type": "execute_result"
    }
   ],
   "source": [
    "conv.bias.shape"
   ]
  },
  {
   "cell_type": "code",
   "execution_count": 53,
   "metadata": {},
   "outputs": [],
   "source": [
    "img, _ = cifar2[0]\n",
    "\n",
    "output = conv(img.unsqueeze(0))"
   ]
  },
  {
   "cell_type": "code",
   "execution_count": 54,
   "metadata": {},
   "outputs": [
    {
     "data": {
      "text/plain": [
       "(torch.Size([1, 3, 32, 32]), torch.Size([1, 16, 30, 30]))"
      ]
     },
     "execution_count": 54,
     "metadata": {},
     "output_type": "execute_result"
    }
   ],
   "source": [
    "img.unsqueeze(0).shape, output.shape"
   ]
  },
  {
   "cell_type": "code",
   "execution_count": 55,
   "metadata": {},
   "outputs": [
    {
     "name": "stderr",
     "output_type": "stream",
     "text": [
      "Clipping input data to the valid range for imshow with RGB data ([0..1] for floats or [0..255] for integers).\n"
     ]
    },
    {
     "data": {
      "image/png": "[encoded data removed]",
      "text/plain": [
       "<Figure size 432x288 with 1 Axes>"
      ]
     },
     "metadata": {
      "needs_background": "light"
     },
     "output_type": "display_data"
    }
   ],
   "source": [
    "plt.imshow(img.permute(1, 2, 0), cmap='gray')\n",
    "plt.show()"
   ]
  },
  {
   "cell_type": "code",
   "execution_count": 56,
   "metadata": {},
   "outputs": [
    {
     "data": {
      "image/png": "[encoded data removed]",
      "text/plain": [
       "<Figure size 432x288 with 1 Axes>"
      ]
     },
     "metadata": {
      "needs_background": "light"
     },
     "output_type": "display_data"
    }
   ],
   "source": [
    "plt.imshow(output[0, 0].detach(), cmap='gray')\n",
    "plt.show()"
   ]
  },
  {
   "cell_type": "code",
   "execution_count": 57,
   "metadata": {},
   "outputs": [
    {
     "data": {
      "text/plain": [
       "torch.Size([1, 16, 30, 30])"
      ]
     },
     "execution_count": 57,
     "metadata": {},
     "output_type": "execute_result"
    }
   ],
   "source": [
    "output.shape"
   ]
  },
  {
   "cell_type": "code",
   "execution_count": 58,
   "metadata": {},
   "outputs": [],
   "source": [
    "conv = nn.Conv2d(3, 1, kernel_size=3, padding=1)"
   ]
  },
  {
   "cell_type": "code",
   "execution_count": 59,
   "metadata": {},
   "outputs": [
    {
     "data": {
      "text/plain": [
       "torch.Size([1, 1, 32, 32])"
      ]
     },
     "execution_count": 59,
     "metadata": {},
     "output_type": "execute_result"
    }
   ],
   "source": [
    "output = conv(img.unsqueeze(0))\n",
    "\n",
    "output.shape"
   ]
  },
  {
   "cell_type": "code",
   "execution_count": 60,
   "metadata": {},
   "outputs": [],
   "source": [
    "with torch.no_grad():\n",
    "    conv.bias.zero_()"
   ]
  },
  {
   "cell_type": "code",
   "execution_count": 61,
   "metadata": {},
   "outputs": [],
   "source": [
    "with torch.no_grad():\n",
    "    conv.weight.fill_(1.0 / 9.0)"
   ]
  },
  {
   "cell_type": "code",
   "execution_count": 62,
   "metadata": {},
   "outputs": [
    {
     "data": {
      "image/png": "[encoded data removed]",
      "text/plain": [
       "<Figure size 432x288 with 1 Axes>"
      ]
     },
     "metadata": {
      "needs_background": "light"
     },
     "output_type": "display_data"
    }
   ],
   "source": [
    "output = conv(img.unsqueeze(0))\n",
    "plt.imshow(output[0, 0].detach(), cmap='gray')\n",
    "plt.show()"
   ]
  },
  {
   "cell_type": "code",
   "execution_count": 63,
   "metadata": {},
   "outputs": [],
   "source": [
    "conv = nn.Conv2d(3, 1, kernel_size=3, padding=1)\n",
    "\n",
    "with torch.no_grad():\n",
    "    conv.weight[:] = torch.tensor([[-1.0, 0.0, 1.0],\n",
    "                                   [-1.0, 0.0, 1.0],\n",
    "                                   [-1.0, 0.0, 1.0]])\n",
    "    conv.bias.zero_()"
   ]
  },
  {
   "cell_type": "code",
   "execution_count": 64,
   "metadata": {},
   "outputs": [
    {
     "data": {
      "image/png": "[encoded data removed]",
      "text/plain": [
       "<Figure size 432x288 with 1 Axes>"
      ]
     },
     "metadata": {
      "needs_background": "light"
     },
     "output_type": "display_data"
    }
   ],
   "source": [
    "output = conv(img.unsqueeze(0))\n",
    "plt.imshow(output[0, 0].detach(), cmap='gray')\n",
    "plt.show()"
   ]
  },
  {
   "cell_type": "code",
   "execution_count": 65,
   "metadata": {},
   "outputs": [],
   "source": [
    "pool = nn.MaxPool2d(2)"
   ]
  },
  {
   "cell_type": "code",
   "execution_count": 66,
   "metadata": {},
   "outputs": [
    {
     "data": {
      "text/plain": [
       "torch.Size([1, 3, 16, 16])"
      ]
     },
     "execution_count": 66,
     "metadata": {},
     "output_type": "execute_result"
    }
   ],
   "source": [
    "output = pool(img.unsqueeze(0))\n",
    "\n",
    "output.shape"
   ]
  },
  {
   "cell_type": "code",
   "execution_count": 67,
   "metadata": {},
   "outputs": [
    {
     "ename": "TypeError",
     "evalue": "ellipsis is not a Module subclass",
     "output_type": "error",
     "traceback": [
      "\u001b[1;31m---------------------------------------------------------------------------\u001b[0m",
      "\u001b[1;31mTypeError\u001b[0m                                 Traceback (most recent call last)",
      "\u001b[1;32m<ipython-input-67-94807a3b1438>\u001b[0m in \u001b[0;36m<module>\u001b[1;34m\u001b[0m\n\u001b[0;32m      6\u001b[0m             \u001b[0mnn\u001b[0m\u001b[1;33m.\u001b[0m\u001b[0mTanh\u001b[0m\u001b[1;33m(\u001b[0m\u001b[1;33m)\u001b[0m\u001b[1;33m,\u001b[0m\u001b[1;33m\u001b[0m\u001b[0m\n\u001b[0;32m      7\u001b[0m             \u001b[0mnn\u001b[0m\u001b[1;33m.\u001b[0m\u001b[0mMaxPool2d\u001b[0m\u001b[1;33m(\u001b[0m\u001b[1;36m2\u001b[0m\u001b[1;33m)\u001b[0m\u001b[1;33m,\u001b[0m\u001b[1;33m\u001b[0m\u001b[0m\n\u001b[1;32m----> 8\u001b[1;33m             ...)\n\u001b[0m",
      "\u001b[1;32m~\\Miniconda3\\envs\\book\\lib\\site-packages\\torch\\nn\\modules\\container.py\u001b[0m in \u001b[0;36m__init__\u001b[1;34m(self, *args)\u001b[0m\n\u001b[0;32m     51\u001b[0m         \u001b[1;32melse\u001b[0m\u001b[1;33m:\u001b[0m\u001b[1;33m\u001b[0m\u001b[0m\n\u001b[0;32m     52\u001b[0m             \u001b[1;32mfor\u001b[0m \u001b[0midx\u001b[0m\u001b[1;33m,\u001b[0m \u001b[0mmodule\u001b[0m \u001b[1;32min\u001b[0m \u001b[0menumerate\u001b[0m\u001b[1;33m(\u001b[0m\u001b[0margs\u001b[0m\u001b[1;33m)\u001b[0m\u001b[1;33m:\u001b[0m\u001b[1;33m\u001b[0m\u001b[0m\n\u001b[1;32m---> 53\u001b[1;33m                 \u001b[0mself\u001b[0m\u001b[1;33m.\u001b[0m\u001b[0madd_module\u001b[0m\u001b[1;33m(\u001b[0m\u001b[0mstr\u001b[0m\u001b[1;33m(\u001b[0m\u001b[0midx\u001b[0m\u001b[1;33m)\u001b[0m\u001b[1;33m,\u001b[0m \u001b[0mmodule\u001b[0m\u001b[1;33m)\u001b[0m\u001b[1;33m\u001b[0m\u001b[0m\n\u001b[0m\u001b[0;32m     54\u001b[0m \u001b[1;33m\u001b[0m\u001b[0m\n\u001b[0;32m     55\u001b[0m     \u001b[1;32mdef\u001b[0m \u001b[0m_get_item_by_idx\u001b[0m\u001b[1;33m(\u001b[0m\u001b[0mself\u001b[0m\u001b[1;33m,\u001b[0m \u001b[0miterator\u001b[0m\u001b[1;33m,\u001b[0m \u001b[0midx\u001b[0m\u001b[1;33m)\u001b[0m\u001b[1;33m:\u001b[0m\u001b[1;33m\u001b[0m\u001b[0m\n",
      "\u001b[1;32m~\\Miniconda3\\envs\\book\\lib\\site-packages\\torch\\nn\\modules\\module.py\u001b[0m in \u001b[0;36madd_module\u001b[1;34m(self, name, module)\u001b[0m\n\u001b[0;32m    171\u001b[0m         \u001b[1;32mif\u001b[0m \u001b[1;32mnot\u001b[0m \u001b[0misinstance\u001b[0m\u001b[1;33m(\u001b[0m\u001b[0mmodule\u001b[0m\u001b[1;33m,\u001b[0m \u001b[0mModule\u001b[0m\u001b[1;33m)\u001b[0m \u001b[1;32mand\u001b[0m \u001b[0mmodule\u001b[0m \u001b[1;32mis\u001b[0m \u001b[1;32mnot\u001b[0m \u001b[1;32mNone\u001b[0m\u001b[1;33m:\u001b[0m\u001b[1;33m\u001b[0m\u001b[0m\n\u001b[0;32m    172\u001b[0m             raise TypeError(\"{} is not a Module subclass\".format(\n\u001b[1;32m--> 173\u001b[1;33m                 torch.typename(module)))\n\u001b[0m\u001b[0;32m    174\u001b[0m         \u001b[1;32melif\u001b[0m \u001b[1;32mnot\u001b[0m \u001b[0misinstance\u001b[0m\u001b[1;33m(\u001b[0m\u001b[0mname\u001b[0m\u001b[1;33m,\u001b[0m \u001b[0mtorch\u001b[0m\u001b[1;33m.\u001b[0m\u001b[0m_six\u001b[0m\u001b[1;33m.\u001b[0m\u001b[0mstring_classes\u001b[0m\u001b[1;33m)\u001b[0m\u001b[1;33m:\u001b[0m\u001b[1;33m\u001b[0m\u001b[0m\n\u001b[0;32m    175\u001b[0m             raise TypeError(\"module name should be a string. Got {}\".format(\n",
      "\u001b[1;31mTypeError\u001b[0m: ellipsis is not a Module subclass"
     ]
    }
   ],
   "source": [
    "model = nn.Sequential(\n",
    "            nn.Conv2d(3, 16, kernel_size=3, padding=1),\n",
    "            nn.Tanh(),\n",
    "            nn.MaxPool2d(2),\n",
    "            nn.Conv2d(16, 8, kernel_size=3, padding=1),\n",
    "            nn.Tanh(),\n",
    "            nn.MaxPool2d(2),\n",
    "            ...)"
   ]
  },
  {
   "cell_type": "code",
   "execution_count": null,
   "metadata": {},
   "outputs": [],
   "source": [
    "model = nn.Sequential(\n",
    "            nn.Conv2d(3, 16, kernel_size=3, padding=1),\n",
    "            nn.Tanh(),\n",
    "            nn.MaxPool2d(2),\n",
    "            nn.Conv2d(16, 8, kernel_size=3, padding=1),\n",
    "            nn.Tanh(),\n",
    "            nn.MaxPool2d(2),\n",
    "            # WARNING: something missing here\n",
    "            nn.Linear(512, 32),\n",
    "            nn.Tanh(),\n",
    "            nn.Linear(32, 2))"
   ]
  },
  {
   "cell_type": "code",
   "execution_count": null,
   "metadata": {},
   "outputs": [],
   "source": [
    "sum([p.numel() for p in model.parameters()])"
   ]
  },
  {
   "cell_type": "code",
   "execution_count": null,
   "metadata": {},
   "outputs": [],
   "source": [
    "model(img.unsqueeze(0))"
   ]
  },
  {
   "cell_type": "code",
   "execution_count": null,
   "metadata": {},
   "outputs": [],
   "source": [
    "class Net(nn.Module):\n",
    "    def __init__(self):\n",
    "        super(Net, self).__init__()\n",
    "        self.conv1 = nn.Conv2d(3, 16, kernel_size=3, padding=1)\n",
    "        self.act1 = nn.Tanh()\n",
    "        self.pool1 = nn.MaxPool2d(2)\n",
    "        self.conv2 = nn.Conv2d(16, 8, kernel_size=3, padding=1)\n",
    "        self.act2 = nn.Tanh()\n",
    "        self.pool2 = nn.MaxPool2d(2)\n",
    "        self.fc1 = nn.Linear(8 * 8 * 8, 32)\n",
    "        self.act4 = nn.Tanh()\n",
    "        self.fc2 = nn.Linear(32, 2)\n",
    "\n",
    "    def forward(self, x):\n",
    "        out = self.pool1(self.act1(self.conv1(x)))\n",
    "        out = self.pool2(self.act2(self.conv2(out)))\n",
    "        out = out.view(-1, 8 * 8 * 8)\n",
    "        out = self.act4(self.fc1(out))\n",
    "        out = self.fc2(out)\n",
    "        return out"
   ]
  },
  {
   "cell_type": "code",
   "execution_count": null,
   "metadata": {},
   "outputs": [],
   "source": [
    "model = Net()\n",
    "\n",
    "sum([p.numel() for p in model.parameters()])"
   ]
  },
  {
   "cell_type": "code",
   "execution_count": null,
   "metadata": {},
   "outputs": [],
   "source": [
    "import torch.nn.functional as F\n",
    "\n",
    "class Net(nn.Module):\n",
    "    def __init__(self):\n",
    "        super(Net, self).__init__()\n",
    "        self.conv1 = nn.Conv2d(3, 16, kernel_size=3, padding=1)\n",
    "        self.conv2 = nn.Conv2d(16, 8, kernel_size=3, padding=1)\n",
    "        self.fc1 = nn.Linear(8 * 8 * 8, 32)\n",
    "        self.fc2 = nn.Linear(32, 2)\n",
    "        \n",
    "    def forward(self, x):\n",
    "        out = F.max_pool2d(torch.tanh(self.conv1(x)), 2)\n",
    "        out = F.max_pool2d(torch.tanh(self.conv2(out)), 2)\n",
    "        out = out.view(-1, 8 * 8 * 8)\n",
    "        out = torch.tanh(self.fc1(out))\n",
    "        out = self.fc2(out)\n",
    "        return out"
   ]
  },
  {
   "cell_type": "code",
   "execution_count": null,
   "metadata": {},
   "outputs": [],
   "source": [
    "model = Net()\n",
    "model(img.unsqueeze(0))"
   ]
  },
  {
   "cell_type": "code",
   "execution_count": null,
   "metadata": {},
   "outputs": [],
   "source": [
    "import torch\n",
    "import torch.nn as nn\n",
    "import torch.nn.functional as F\n",
    "\n",
    "train_loader = torch.utils.data.DataLoader(cifar2, batch_size=64,\n",
    "                                           shuffle=True)\n",
    "\n",
    "class Net(nn.Module):\n",
    "    def __init__(self):\n",
    "        super(Net, self).__init__()\n",
    "        self.conv1 = nn.Conv2d(3, 16, kernel_size=3, padding=1)\n",
    "        self.conv2 = nn.Conv2d(16, 8, kernel_size=3, padding=1)\n",
    "        self.fc1 = nn.Linear(8 * 8 * 8, 32)\n",
    "        self.fc2 = nn.Linear(32, 2)\n",
    "        \n",
    "    def forward(self, x):\n",
    "        out = F.max_pool2d(torch.relu(self.conv1(x)), 2)\n",
    "        out = F.max_pool2d(torch.relu(self.conv2(out)), 2)\n",
    "        out = out.view(-1, 8 * 8 * 8)\n",
    "        out = torch.tanh(self.fc1(out))\n",
    "        out = self.fc2(out)\n",
    "        return out\n",
    "    \n",
    "model = Net()\n",
    "\n",
    "learning_rate = 1e-2\n",
    "\n",
    "optimizer = optim.SGD(model.parameters(), lr=learning_rate)\n",
    "\n",
    "loss_fn = nn.CrossEntropyLoss()\n",
    "\n",
    "n_epochs = 100\n",
    "\n",
    "for epoch in range(n_epochs):\n",
    "    for imgs, labels in train_loader:\n",
    "        outputs = model(imgs)\n",
    "        loss = loss_fn(outputs, labels)\n",
    "                \n",
    "        optimizer.zero_grad()\n",
    "        loss.backward()\n",
    "        optimizer.step()\n",
    "\n",
    "    print(\"Epoch: %d, Loss: %f\" % (epoch, float(loss)))"
   ]
  },
  {
   "cell_type": "code",
   "execution_count": null,
   "metadata": {},
   "outputs": [],
   "source": [
    "train_loader = torch.utils.data.DataLoader(cifar2, batch_size=64,\n",
    "                                           shuffle=False)\n",
    "\n",
    "correct = 0\n",
    "total = 0\n",
    "\n",
    "with torch.no_grad():\n",
    "    for imgs, labels in train_loader:\n",
    "        outputs = model(imgs)\n",
    "        _, predicted = torch.max(outputs, dim=1)\n",
    "        total += labels.shape[0]\n",
    "        correct += int((predicted == labels).sum())\n",
    "        \n",
    "print(\"Accuracy: %f\" % (correct / total))"
   ]
  },
  {
   "cell_type": "code",
   "execution_count": null,
   "metadata": {},
   "outputs": [],
   "source": [
    "val_loader = torch.utils.data.DataLoader(cifar2_val, batch_size=64,\n",
    "                                         shuffle=False)\n",
    "\n",
    "correct = 0\n",
    "total = 0\n",
    "\n",
    "with torch.no_grad():\n",
    "    for imgs, labels in val_loader:\n",
    "        outputs = model(imgs)\n",
    "        _, predicted = torch.max(outputs, dim=1)\n",
    "        total += labels.shape[0]\n",
    "        correct += int((predicted == labels).sum())\n",
    "        \n",
    "print(\"Accuracy: %f\" % (correct / total))"
   ]
  },
  {
   "cell_type": "code",
   "execution_count": null,
   "metadata": {},
   "outputs": [],
   "source": [
    "import torch\n",
    "import torch.nn as nn\n",
    "import torch.nn.functional as F\n",
    "\n",
    "class Net(nn.Module):\n",
    "    def __init__(self):\n",
    "        super(Net, self).__init__()\n",
    "        self.conv1 = nn.Conv2d(3, 16, kernel_size=3, padding=1)\n",
    "        self.conv2 = nn.Conv2d(16, 8, kernel_size=3, padding=1)\n",
    "        self.fc1 = nn.Linear(8 * 8 * 8, 32)\n",
    "        self.fc2 = nn.Linear(32, 2)\n",
    "        \n",
    "    def forward(self, x):\n",
    "        out = F.max_pool2d(torch.relu(self.conv1(x)), 2)\n",
    "        out = F.max_pool2d(torch.relu(self.conv2(out)), 2)\n",
    "        out = out.view(-1, 8 * 8 * 8)\n",
    "        out = torch.tanh(self.fc1(out))\n",
    "        out = self.fc2(out)\n",
    "        return out\n",
    "    \n",
    "model = Net()\n",
    "sum([p.numel() for p in model.parameters()])"
   ]
  },
  {
   "cell_type": "code",
   "execution_count": null,
   "metadata": {},
   "outputs": [],
   "source": [
    "model = nn.Sequential(\n",
    "            nn.Conv2d(3, 16, kernel_size=3, padding=1),\n",
    "            nn.Tanh(),\n",
    "            nn.MaxPool2d(2),\n",
    "            nn.Conv2d(16, 8, kernel_size=3, padding=1),\n",
    "            nn.Tanh(),\n",
    "            nn.MaxPool2d(2),\n",
    "            nn.Linear(8*8*8, 32),\n",
    "            nn.Tanh(),\n",
    "            nn.Linear(32, 2))\n",
    "\n",
    "model(img.unsqueeze(0))"
   ]
  },
  {
   "cell_type": "markdown",
   "metadata": {},
   "source": [
    "## Sandbox"
   ]
  },
  {
   "cell_type": "code",
   "execution_count": null,
   "metadata": {},
   "outputs": [],
   "source": [
    "import torch\n",
    "import torch.nn as nn\n",
    "import torch.optim as optim\n",
    "from torchvision import datasets, transforms\n",
    "\n",
    "# Check if MPS is available and set the device\n",
    "device = torch.device(\"mps\" if torch.backends.mps.is_available() else \"cpu\")\n",
    "\n",
    "# Define a simple neural network\n",
    "class SimpleNet(nn.Module):\n",
    "    def __init__(self):\n",
    "        super(SimpleNet, self).__init__()\n",
    "        self.fc = nn.Linear(28 * 28, 10)\n",
    "\n",
    "    def forward(self, x):\n",
    "        x = x.view(-1, 28 * 28)\n",
    "        return self.fc(x)\n",
    "\n",
    "# Load the dataset\n",
    "transform = transforms.Compose([transforms.ToTensor(), transforms.Normalize((0.5,), (0.5,))])\n",
    "train_dataset = datasets.MNIST(root='./data', train=True, transform=transform, download=True)\n",
    "train_loader = torch.utils.data.DataLoader(train_dataset, batch_size=64, shuffle=True)\n",
    "\n",
    "# Initialize the network and move it to the device\n",
    "model = SimpleNet().to(device)\n",
    "criterion = nn.CrossEntropyLoss()\n",
    "optimizer = optim.SGD(model.parameters(), lr=0.01, momentum=0.9)\n",
    "\n",
    "# Training loop\n",
    "for epoch in range(1, 11):  # Train for 10 epochs\n",
    "    model.train()\n",
    "    running_loss = 0.0\n",
    "    for data, target in train_loader:\n",
    "        data, target = data.to(device), target.to(device)\n",
    "\n",
    "        optimizer.zero_grad()\n",
    "        output = model(data)\n",
    "        loss = criterion(output, target)\n",
    "        loss.backward()\n",
    "        optimizer.step()\n",
    "\n",
    "        running_loss += loss.item()\n",
    "\n",
    "    print(f\"Epoch {epoch}, Loss: {running_loss / len(train_loader)}\")"
   ]
  },
  {
   "cell_type": "code",
   "execution_count": 76,
   "metadata": {},
   "outputs": [
    {
     "name": "stdout",
     "output_type": "stream",
     "text": [
      "    1.00  ┤     ╭────╮                          ╭───╮                          ╭───╮\n",
      "    0.82  ┤   ╭─╯    ╰╮                       ╭─╯   ╰─╮                      ╭─╯   ╰─╮                       ╭\n",
      "    0.64  ┤  ╭╯       ╰─╮                    ╭╯       ╰╮                    ╭╯       ╰╮                    ╭─╯\n",
      "    0.45  ┤ ╭╯          ╰╮                 ╭─╯         ╰╮                  ╭╯         ╰─╮                 ╭╯\n",
      "    0.27  ┤╭╯            ╰╮               ╭╯            ╰╮                ╭╯            ╰╮               ╭╯\n",
      "    0.09  ┼╯              ╰╮             ╭╯              ╰╮              ╭╯              ╰╮             ╭╯\n",
      "   -0.09  ┼                ╰╮           ╭╯                ╰╮            ╭╯                ╰╮           ╭╯\n",
      "   -0.27  ┤                 ╰╮         ╭╯                  ╰╮          ╭╯                  ╰╮         ╭╯\n",
      "   -0.45  ┤                  ╰╮       ╭╯                    ╰╮       ╭─╯                    ╰╮       ╭╯\n",
      "   -0.64  ┤                   ╰─╮   ╭─╯                      ╰─╮    ╭╯                       ╰─╮   ╭─╯\n",
      "   -0.82  ┤                     ╰───╯                          ╰────╯                          ╰───╯\n",
      "   -1.00  ┤\n"
     ]
    }
   ],
   "source": [
    "from asciichartpy import plot\n",
    "from IPython.display import clear_output\n",
    "import math\n",
    "import time\n",
    "\n",
    "data = []\n",
    "for i in range(100):\n",
    "    data.append(math.sin(i * 0.2))\n",
    "    clear_output(wait=True)\n",
    "    print(plot(data, {'height': 10}))\n",
    "    time.sleep(0.1)"
   ]
  },
  {
   "cell_type": "code",
   "execution_count": 77,
   "metadata": {},
   "outputs": [
    {
     "data": {
      "text/plain": [
       "array([-3.94117468, -3.70962428, -3.49444891, ..., -4.11315011,\n",
       "       -3.92370215, -4.2265296 ])"
      ]
     },
     "execution_count": 77,
     "metadata": {},
     "output_type": "execute_result"
    }
   ],
   "source": [
    "np.log10(lossList)"
   ]
  },
  {
   "cell_type": "code",
   "execution_count": 90,
   "metadata": {},
   "outputs": [
    {
     "data": {
      "text/plain": [
       "[-0.4552634734248416,\n",
       " -0.48678398136115225,\n",
       " -0.414733637590118,\n",
       " -0.4224837288878089,\n",
       " -0.4571809803473611,\n",
       " -0.42879356789716566,\n",
       " -0.2931855981771007,\n",
       " -0.3778548369441285,\n",
       " -0.5251711890726496,\n",
       " -0.41214582237003317,\n",
       " -0.4505572984611475,\n",
       " -0.3284453445365033,\n",
       " -0.4654746553830507,\n",
       " -0.38933492799389036,\n",
       " -0.4835746420857927,\n",
       " -0.5207681185787738,\n",
       " -0.39618885706319396,\n",
       " -0.3736952421619068,\n",
       " -0.26796743439828136,\n",
       " -0.41555186256408627,\n",
       " -0.5842482480929493,\n",
       " -0.30772205131856206,\n",
       " -0.4091568567636957,\n",
       " -0.3728881372807883,\n",
       " -0.45869987623499114,\n",
       " -0.4469985926931943,\n",
       " -0.49774045381683196,\n",
       " -0.49086710833082825,\n",
       " -0.2668893421885412,\n",
       " -0.3691460480468087,\n",
       " -0.4173543907963021,\n",
       " -0.45605271938671527,\n",
       " -0.4710916099635415,\n",
       " -0.20604531427461695,\n",
       " -0.39008432369604934,\n",
       " -0.4522747409463707,\n",
       " -0.3704047431569905,\n",
       " -0.4511830592142935,\n",
       " -0.33862594177730054,\n",
       " -0.45163587220591295,\n",
       " -0.5438771708132604,\n",
       " -0.3242946740349136,\n",
       " -0.3911084138076739,\n",
       " -0.39803828292593485,\n",
       " -0.466636752746449,\n",
       " -0.6654638836737988,\n",
       " -0.49780564649181624,\n",
       " -0.47681297167899533,\n",
       " -0.3732075592288051,\n",
       " -0.40716897004734715,\n",
       " -0.34974720869731357,\n",
       " -0.4820569289499359,\n",
       " -0.4709881913042092,\n",
       " -0.37944383167618845,\n",
       " -0.535714527276605,\n",
       " -0.5728429106232454,\n",
       " -0.31774382708092364,\n",
       " -0.5021418266054829,\n",
       " -0.3430451121019972,\n",
       " -0.6793130331115129,\n",
       " -0.4506915125092121,\n",
       " -0.4405757712909144,\n",
       " -0.27259737349999547,\n",
       " -0.3256617184329574,\n",
       " -0.301300743726158,\n",
       " -0.5781400367690869,\n",
       " -0.40559532277760035,\n",
       " -0.2908086945941612,\n",
       " -0.40945961733839925,\n",
       " -0.3889975935748546,\n",
       " -0.34376423831052805,\n",
       " -0.33858865588541015,\n",
       " -0.3395209728943923,\n",
       " -0.45944014540625155,\n",
       " -0.5118997503418143,\n",
       " -0.4409599147273916,\n",
       " -0.3996234217449122,\n",
       " -0.3534041984309411,\n",
       " -0.2773097520751754,\n",
       " -0.5257750814099919,\n",
       " -0.3499867646187605,\n",
       " -0.250818809083403,\n",
       " -0.3920339165951783,\n",
       " -0.34517704368660285,\n",
       " -0.48800798730093553,\n",
       " -0.4395219712060618,\n",
       " -0.4173484355668308,\n",
       " -0.4880010596149907,\n",
       " -0.4050532895289863,\n",
       " -0.3306673981222491,\n",
       " -0.4255688574086087,\n",
       " -0.44686254519167823,\n",
       " -0.5206680506808462,\n",
       " -0.47809861706183493,\n",
       " -0.4026970089980827,\n",
       " -0.332268594469458,\n",
       " -0.3502800311378664,\n",
       " -0.37507307457738576,\n",
       " -0.494945536844985,\n",
       " -0.31934432461958534,\n",
       " -0.34421965156450857,\n",
       " -0.42474360507553893,\n",
       " -0.4930528197695117,\n",
       " -0.4981284557097559,\n",
       " -0.381160491731829,\n",
       " -0.46283293421342653,\n",
       " -0.42159101514076924,\n",
       " -0.5413563975746318,\n",
       " -0.4940377697905218,\n",
       " -0.5749271272472998,\n",
       " -0.39931679184082636,\n",
       " -0.5137212068061348,\n",
       " -0.3250719148799593,\n",
       " -0.4001925415682134,\n",
       " -0.5104025867028673,\n",
       " -0.38872184504183727,\n",
       " -0.5042425572781146,\n",
       " -0.3648246160992917,\n",
       " -0.32270576640810544,\n",
       " -0.5001214162223698,\n",
       " -0.2813377769259457,\n",
       " -0.390981341127121,\n",
       " -0.4125203038626616,\n",
       " -0.41688171168027227,\n",
       " -0.36885389750241726,\n",
       " -0.37847522041664955,\n",
       " -0.42096693260546336,\n",
       " -0.4091209646508728,\n",
       " -0.2725588248083069,\n",
       " -0.42812828841595657,\n",
       " -0.3441464320172023,\n",
       " -0.3733724036606663,\n",
       " -0.5485030375136666,\n",
       " -0.5158424617329777,\n",
       " -0.4718984389303215,\n",
       " -0.3965168609587659,\n",
       " -0.4426358022441339,\n",
       " -0.41781606804072696,\n",
       " -0.3952630532355593,\n",
       " -0.43596392736277123,\n",
       " -0.4873656557556513,\n",
       " -0.3545943326587561,\n",
       " -0.34255512327452653,\n",
       " -0.3449108276056927,\n",
       " -0.40963007320824324,\n",
       " -0.49510674235671615,\n",
       " -0.43749994403966963,\n",
       " -0.3309068313656237,\n",
       " -0.32500850045500335,\n",
       " -0.2958606508993221,\n",
       " -0.4483203172433382,\n",
       " -0.3154676046296432,\n",
       " -0.36291444924129457,\n",
       " -0.3829353503899906,\n",
       " -0.47004095708012167,\n",
       " -0.4432924117413412,\n",
       " -0.3074811103789779,\n",
       " -0.25243432724497306,\n",
       " -0.34027842512861844,\n",
       " -0.5724958022126925,\n",
       " -0.4306618602656742,\n",
       " -0.5413802580239169,\n",
       " -0.4180075929353795,\n",
       " -0.5305291414366504,\n",
       " -0.5766052574447696,\n",
       " -0.5867198701199453,\n",
       " -0.377461350206489,\n",
       " -0.43708095809847347,\n",
       " -0.41837190285038084,\n",
       " -0.4035006149070215,\n",
       " -0.5839642046361572,\n",
       " -0.3452180519710374,\n",
       " -0.4193906485830281,\n",
       " -0.2593133296431531,\n",
       " -0.5440439257690179,\n",
       " -0.3891140359784469,\n",
       " -0.4570363672265382,\n",
       " -0.35209125701211924,\n",
       " -0.48234619054180916,\n",
       " -0.46919539814100913,\n",
       " -0.4229347163686326,\n",
       " -0.4314017664230997,\n",
       " -0.4012195511931138,\n",
       " -0.46904874928560464,\n",
       " -0.4604330736716673,\n",
       " -0.5458030047094253,\n",
       " -0.3240995572893518,\n",
       " -0.2682269228035871,\n",
       " -0.47781349213411317,\n",
       " -0.594740786335202,\n",
       " -0.3893783901878663,\n",
       " -0.3205159619761007,\n",
       " -0.3197065851548714,\n",
       " -0.4947248260626031,\n",
       " -0.5560841919712484,\n",
       " -0.3368774621483375,\n",
       " -0.36418883596708546,\n",
       " -0.5242315626616131,\n",
       " -0.47916495113553303,\n",
       " -0.5342901131461891,\n",
       " -0.38634614563473685,\n",
       " -0.5537500337727803,\n",
       " -0.3658847494637172,\n",
       " -0.3427341489121042,\n",
       " -0.3259461605244742,\n",
       " -0.37471160476200416,\n",
       " -0.47646308523279757,\n",
       " -0.33152580535465254,\n",
       " -0.49655696129554,\n",
       " -0.3695848397182594,\n",
       " -0.23955663824756157,\n",
       " -0.357310632189316,\n",
       " -0.43144433653181735,\n",
       " -0.34584695793654746,\n",
       " -0.33343963457925935,\n",
       " -0.4883349882810401,\n",
       " -0.5989890977972172,\n",
       " -0.5114792070288926,\n",
       " -0.4087107900618061,\n",
       " -0.3237564725988675,\n",
       " -0.3672857141183006,\n",
       " -0.40322303873244497,\n",
       " -0.3125610213539933,\n",
       " -0.3972257811633135,\n",
       " -0.40352952290885963,\n",
       " -0.5302346490318282,\n",
       " -0.49280432426739523,\n",
       " -0.4544272328693395,\n",
       " -0.283087384568329,\n",
       " -0.44616786815190007,\n",
       " -0.4087464492542328,\n",
       " -0.40695765117970384,\n",
       " -0.5414425714922054,\n",
       " -0.5165352873719591,\n",
       " -0.4861789391305382,\n",
       " -0.39841345567231456,\n",
       " -0.3786907347479717,\n",
       " -0.6216870354281933,\n",
       " -0.37456394285160477,\n",
       " -0.4164811979422269,\n",
       " -0.4289931247188956,\n",
       " -0.4855403344274381,\n",
       " -0.4155609944428916,\n",
       " -0.41908295977104165,\n",
       " -0.38988169453804533,\n",
       " -0.5133366693223705,\n",
       " -0.3152140113473959,\n",
       " -0.482908607700692,\n",
       " -0.5431566762062522,\n",
       " -0.4225735122214883,\n",
       " -0.40956512658458644,\n",
       " -0.38158183801005585,\n",
       " -0.40577121998525456,\n",
       " -0.4314854426655557,\n",
       " -0.5080527563267178,\n",
       " -0.49260469665944884,\n",
       " -0.3633940801477857,\n",
       " -0.3221242272725085,\n",
       " -0.3770029072151126,\n",
       " -0.38168418394038706,\n",
       " -0.4405383999925163,\n",
       " -0.36733531744884335,\n",
       " -0.5121382475253625,\n",
       " -0.495404466216728,\n",
       " -0.4867991082961325,\n",
       " -0.3027361735094818,\n",
       " -0.4199755658155129,\n",
       " -0.42448991971279254,\n",
       " -0.5213962694239734,\n",
       " -0.33799378491242144,\n",
       " -0.5171229391702904,\n",
       " -0.45532192659022347,\n",
       " -0.44598440595061906,\n",
       " -0.49752246944825074,\n",
       " -0.3745588836757312,\n",
       " -0.5048553096103724,\n",
       " -0.38885874678566507,\n",
       " -0.48557073985933613,\n",
       " -0.29462807986018624,\n",
       " -0.39441669165461507,\n",
       " -0.5054046052072906,\n",
       " -0.43649066417271865,\n",
       " -0.4515161179497526,\n",
       " -0.3888477195438873,\n",
       " -0.4161766089025858,\n",
       " -0.49389875345949563,\n",
       " -0.48945450914555066,\n",
       " -0.5280100549696627,\n",
       " -0.5220995264032164,\n",
       " -0.38900504267134894,\n",
       " -0.4508012086798272,\n",
       " -0.48369706754014413,\n",
       " -0.1970522482522895,\n",
       " -0.46733715432730905,\n",
       " -0.4747749836550781,\n",
       " -0.3404462250693827,\n",
       " -0.23819398817916684,\n",
       " -0.447428168115002,\n",
       " -0.3852356892911009,\n",
       " -0.4129726138818409,\n",
       " -0.3956487420442197,\n",
       " -0.2971429071660844,\n",
       " -0.3336352548105904,\n",
       " -0.394348139977632,\n",
       " -0.40856844783685503,\n",
       " -0.3987174384603283,\n",
       " -0.4069085949692644,\n",
       " -0.39766560057431855,\n",
       " -0.48361200459888654,\n",
       " -0.37157707234509524,\n",
       " -0.47090496884617106,\n",
       " -0.49122867844928214,\n",
       " -0.33029372253878875,\n",
       " -0.6290378986408036,\n",
       " -0.5234690702659149,\n",
       " -0.5857208170401043,\n",
       " -0.47688743794866106,\n",
       " -0.36480156063630914,\n",
       " -0.4290849245420847,\n",
       " -0.49148959841068546,\n",
       " -0.513522583004687,\n",
       " -0.5733252294337285,\n",
       " -0.2912877842007003,\n",
       " -0.44620536543423034,\n",
       " -0.5087929781501328,\n",
       " -0.45250853750421877,\n",
       " -0.38025660665174504,\n",
       " -0.49775975406375367,\n",
       " -0.44230213537081076,\n",
       " -0.4216911402762636,\n",
       " -0.37925546597338333,\n",
       " -0.4705013709754795,\n",
       " -0.43661147430213365,\n",
       " -0.1914916169509679,\n",
       " -0.44264035711658806,\n",
       " -0.39745775560399255,\n",
       " -0.5016364892134096,\n",
       " -0.37292943441327664,\n",
       " -0.37525644064573327,\n",
       " -0.5249285926481286,\n",
       " -0.5324748429201263,\n",
       " -0.45272700562311624,\n",
       " -0.38649150288424816,\n",
       " -0.42710851893823204,\n",
       " -0.36284529157599793,\n",
       " -0.4884281150816513,\n",
       " -0.3714525732050758,\n",
       " -0.39583446969317243,\n",
       " -0.5973183446712991,\n",
       " -0.4964655665605636,\n",
       " -0.4779232561030132,\n",
       " -0.45732319312306113,\n",
       " -0.3818008016800305,\n",
       " -0.36957086596089916,\n",
       " -0.3079860624161883,\n",
       " -0.43114563000545925,\n",
       " -0.36505229829518854,\n",
       " -0.4965639049957669,\n",
       " -0.42263334384016843,\n",
       " -0.5746803675619171,\n",
       " -0.4986991730994551,\n",
       " -0.43121119576623423,\n",
       " -0.3237264420551132,\n",
       " -0.49675975493991376,\n",
       " -0.5565977580986503,\n",
       " -0.5937446667317212,\n",
       " -0.36485519870593197,\n",
       " -0.3882630431499612,\n",
       " -0.4533412719963597,\n",
       " -0.5162463057332842,\n",
       " -0.5001824631768252,\n",
       " -0.40506756480704587,\n",
       " -0.4014835505184196,\n",
       " -0.28809799542982095,\n",
       " -0.5487066040400308,\n",
       " -0.5239544562618745,\n",
       " -0.3261981730297772,\n",
       " -0.44054778713179765,\n",
       " -0.2631563386768476,\n",
       " -0.4548566240461429,\n",
       " -0.49288391916165425,\n",
       " -0.3317170925713868,\n",
       " -0.3720903038587828,\n",
       " -0.5468573686114018,\n",
       " -0.35959782113078625,\n",
       " -0.43076368012119637,\n",
       " -0.46206180978821115,\n",
       " -0.5573024819298376,\n",
       " -0.47708687951419737,\n",
       " -0.46546838037878163,\n",
       " -0.46493918711215587,\n",
       " -0.48500391790311936,\n",
       " -0.4817299493104509,\n",
       " -0.47445490532725165,\n",
       " -0.46964190123054256,\n",
       " -0.408149452548756,\n",
       " -0.43319012001913715,\n",
       " -0.3871154244497186,\n",
       " -0.2921605999037315,\n",
       " -0.24696506828156092,\n",
       " -0.4539109478303886,\n",
       " -0.27927081017739547,\n",
       " -0.48908012338599954,\n",
       " -0.3717535757879404,\n",
       " -0.36161507067193854,\n",
       " -0.3534486488127347,\n",
       " -0.3957173383786757,\n",
       " -0.4585731728962761,\n",
       " -0.3416843523975151,\n",
       " -0.5422250870042347,\n",
       " -0.28062762266510966,\n",
       " -0.47246657094638284,\n",
       " -0.39374951099652283,\n",
       " -0.3516615196979223,\n",
       " -0.36159331582711357,\n",
       " -0.5956264987794712,\n",
       " -0.406768096934566,\n",
       " -0.35153881982486934,\n",
       " -0.5376516917208082,\n",
       " -0.5558823521793786,\n",
       " -0.6051041081505618,\n",
       " -0.40192698685711725,\n",
       " -0.4934649567145762,\n",
       " -0.4534823430871898,\n",
       " -0.4398040482636605,\n",
       " -0.443497127667392,\n",
       " -0.5426484120757601,\n",
       " -0.4382452827929071,\n",
       " -0.6148603225884441,\n",
       " -0.3358380648920769,\n",
       " -0.4427248640448242,\n",
       " -0.3876108348350016,\n",
       " -0.2684109670208404,\n",
       " -0.5546421325028168,\n",
       " -0.45933722783898384,\n",
       " -0.3296468599639988,\n",
       " -0.4878677828972731,\n",
       " -0.321809010912703,\n",
       " -0.3331661594937891,\n",
       " -0.4857617726726816,\n",
       " -0.5318477389800625,\n",
       " -0.4246557463479183,\n",
       " -0.4340824065209893,\n",
       " -0.38637670663608337,\n",
       " -0.48973543046977747,\n",
       " -0.44032990076406153,\n",
       " -0.2539847926584907,\n",
       " -0.4461582502771851,\n",
       " -0.414198090317061,\n",
       " -0.4365014494251876,\n",
       " -0.4303296985498393,\n",
       " -0.4395790557394178,\n",
       " -0.39715810894833253,\n",
       " -0.421699205967557,\n",
       " -0.36619650337529047,\n",
       " -0.47524717354355517,\n",
       " -0.5128659932867763,\n",
       " -0.37960001766213064,\n",
       " -0.501334012174546,\n",
       " -0.41538516370742945,\n",
       " -0.2756956313715972,\n",
       " -0.5587136359289869,\n",
       " -0.5667341759090238,\n",
       " -0.26119380987282176,\n",
       " -0.504525312706123,\n",
       " -0.3919063814013066,\n",
       " -0.4614268915913987,\n",
       " -0.4372674626699947,\n",
       " -0.32383465448953175,\n",
       " -0.22828681542785656,\n",
       " -0.3258579495715355,\n",
       " -0.4189423736297444,\n",
       " -0.3906783002739832,\n",
       " -0.48417791931369103,\n",
       " -0.26794594129541843,\n",
       " -0.3357021747516132,\n",
       " -0.413403801376148,\n",
       " -0.3978678834107258,\n",
       " -0.30084805542237714,\n",
       " -0.40672081209803446,\n",
       " -0.4256824243135486,\n",
       " -0.40979806876144476,\n",
       " -0.5032618863488592,\n",
       " -0.44628398644715245,\n",
       " -0.5604946010940612,\n",
       " -0.3860995623912079,\n",
       " -0.4197174710146629,\n",
       " -0.37343662187522186,\n",
       " -0.3993393198049548,\n",
       " -0.5379844919541651,\n",
       " -0.5874288465501437,\n",
       " -0.40686479592448244,\n",
       " -0.45169145877334915,\n",
       " -0.5618138157586874,\n",
       " -0.44777839137168157,\n",
       " -0.3438909893298833,\n",
       " -0.4642956783538052,\n",
       " -0.40236535197682627,\n",
       " -0.48187788210817456,\n",
       " -0.5515717158371427,\n",
       " -0.6657468102600143,\n",
       " -0.4379577584864311,\n",
       " -0.47999959735804154,\n",
       " -0.45329488333373646,\n",
       " -0.411345696775196,\n",
       " -0.408270747925404,\n",
       " -0.3494745596510484,\n",
       " -0.2512084617835997,\n",
       " -0.6822939173312235,\n",
       " -0.39798711721776453,\n",
       " -0.39563567423873325,\n",
       " -0.5221433266743586,\n",
       " -0.5577327751501916,\n",
       " -0.3852179661640262,\n",
       " -0.45279106591105006,\n",
       " -0.3660525798945841,\n",
       " -0.2887321994635044,\n",
       " -0.5503551720439708,\n",
       " -0.295813331073337,\n",
       " -0.43342773173706295,\n",
       " -0.5044947088501015,\n",
       " -0.38130290887781265,\n",
       " -0.394909002494545,\n",
       " -0.3811863624729716,\n",
       " -0.4008631214349441,\n",
       " -0.46102392054380587,\n",
       " -0.4090281104786259,\n",
       " -0.463451099522619,\n",
       " -0.24073229806123272,\n",
       " -0.2765336245179465,\n",
       " -0.45987277020271716,\n",
       " -0.35860119629706966,\n",
       " -0.3567310668585642,\n",
       " -0.394398333122192,\n",
       " -0.5368185999076155,\n",
       " -0.4147889340742026,\n",
       " -0.49925965009988693,\n",
       " -0.38636246557200415,\n",
       " -0.2859944299604943,\n",
       " -0.33586454121790127,\n",
       " -0.44941986279167667,\n",
       " -0.5476707675433254,\n",
       " -0.5668146041766415,\n",
       " -0.45087331922325047,\n",
       " -0.5211479080578533,\n",
       " -0.6644329811253434,\n",
       " -0.6728986190361133,\n",
       " -0.43113082057006213,\n",
       " -0.40066380215947395,\n",
       " -0.4459070316377555,\n",
       " -0.5101542727072667,\n",
       " -0.4211184150260863,\n",
       " -0.26908991111060443,\n",
       " -0.4613783580428784,\n",
       " -0.35138173665262984,\n",
       " -0.1910872869874783,\n",
       " -0.3985892867384929,\n",
       " -0.4953547774058042,\n",
       " -0.5528757123283565,\n",
       " -0.48225479087343176,\n",
       " -0.51219027313171,\n",
       " -0.49156762799492754,\n",
       " -0.707690289362059,\n",
       " -0.3646571095942647,\n",
       " -0.36237082739046644,\n",
       " -0.3162946368719609,\n",
       " -0.4067758241360709,\n",
       " -0.39050468822414053,\n",
       " -0.48095809405598877,\n",
       " -0.3242406299875851,\n",
       " -0.3493919418213256,\n",
       " -0.4602998123947556,\n",
       " -0.40066005765641277,\n",
       " -0.4811992347855149,\n",
       " -0.37504415819635534,\n",
       " -0.47457802900185864,\n",
       " -0.3770837320376349,\n",
       " -0.40864647823256495,\n",
       " -0.47195575971358195,\n",
       " -0.40306591595832303,\n",
       " -0.5962483045204375,\n",
       " -0.4550819974967095,\n",
       " -0.3767973512255038,\n",
       " -0.451013663924863,\n",
       " -0.33668751398799535,\n",
       " -0.5245256055449671,\n",
       " -0.5905081707022592,\n",
       " -0.35364934547506127,\n",
       " -0.48596537212518376,\n",
       " -0.6433285037178964,\n",
       " -0.3916624581908495,\n",
       " -0.39483937712386064,\n",
       " -0.41576416943021105,\n",
       " -0.37733604787532726,\n",
       " -0.4016754135154944,\n",
       " -0.4470213801076594,\n",
       " -0.3857564245777089,\n",
       " -0.48185786172120176,\n",
       " -0.48140345095039083,\n",
       " -0.43058940056325085,\n",
       " -0.4947008891031604,\n",
       " -0.5455488814212359,\n",
       " -0.4258913573773645,\n",
       " -0.48349228249740595,\n",
       " -0.38006810554262993,\n",
       " -0.3924768783790109,\n",
       " -0.486112297172182,\n",
       " -0.38149484423564456,\n",
       " -0.47901680843482153,\n",
       " -0.5081355293985864,\n",
       " -0.5742182467284322,\n",
       " -0.47845741909184464,\n",
       " -0.5072179019279693,\n",
       " -0.377969874543555,\n",
       " -0.4009291253936208,\n",
       " -0.4990846020128447,\n",
       " -0.3276705255228104,\n",
       " -0.5108139477149904,\n",
       " -0.3796809860380624,\n",
       " -0.6113737272378749,\n",
       " -0.4615749224508233,\n",
       " -0.45046464410182613,\n",
       " -0.5254325383117586,\n",
       " -0.4781818672925548,\n",
       " -0.3370438123070649,\n",
       " -0.5186770741166468,\n",
       " -0.42016920356613346,\n",
       " -0.2999310265502675,\n",
       " -0.46792861788448925,\n",
       " -0.4664956635817866,\n",
       " -0.4839520408184523,\n",
       " -0.49380291300468077,\n",
       " -0.3898576509116026,\n",
       " -0.3427591397407865,\n",
       " -0.4655888309310058,\n",
       " -0.4903528568206243,\n",
       " -0.35978748075878425,\n",
       " -0.38404792435391083,\n",
       " -0.5400991872385756,\n",
       " -0.4423958602976086,\n",
       " -0.43442097124977613,\n",
       " -0.5154160918451348,\n",
       " -0.3994579517352894,\n",
       " -0.5867928399996066,\n",
       " -0.36414794254001076,\n",
       " -0.3100208795517574,\n",
       " -0.43922370816520495,\n",
       " -0.40019328966049045,\n",
       " -0.461340089269771,\n",
       " -0.4252705796757741,\n",
       " -0.47495135722048926,\n",
       " -0.3827265305170023,\n",
       " -0.3670371495763359,\n",
       " -0.4789051692246271,\n",
       " -0.5631468954319498,\n",
       " -0.3270532526639528,\n",
       " -0.456208883259536,\n",
       " -0.5677644494108259,\n",
       " -0.6203408134203872,\n",
       " -0.561552038409868,\n",
       " -0.5341424689757014,\n",
       " -0.3733028752152652,\n",
       " -0.4680180400257961,\n",
       " -0.5565381736069238,\n",
       " -0.2840634831467811,\n",
       " -0.45738841737326225,\n",
       " -0.47049238429791906,\n",
       " -0.4683144965968326,\n",
       " -0.48845131022799626,\n",
       " -0.4737557696448015,\n",
       " -0.3439719385105772,\n",
       " -0.4724098740874213,\n",
       " -0.3930183394044915,\n",
       " -0.3511405096330113,\n",
       " -0.4453170407363081,\n",
       " -0.4915684709836486,\n",
       " -0.5894289603568635,\n",
       " -0.38038412190404486,\n",
       " -0.4075291925668605,\n",
       " -0.4576138095352611,\n",
       " -0.3932715405301559,\n",
       " -0.4451820239603098,\n",
       " -0.3818678063602383,\n",
       " -0.3339711001401484,\n",
       " -0.4285671230951508,\n",
       " -0.546878797535209,\n",
       " -0.33535392260184066,\n",
       " -0.5294608086197691,\n",
       " -0.4773536175494424,\n",
       " -0.48259773716268406,\n",
       " -0.5001590833494,\n",
       " -0.5397776364156097,\n",
       " -0.46503634139923616,\n",
       " -0.42652079928376774,\n",
       " -0.3373594228216897,\n",
       " -0.2880933721739854,\n",
       " -0.28819011903741315,\n",
       " -0.3458709517706609,\n",
       " -0.447952084083861,\n",
       " -0.5191593979570026,\n",
       " -0.42006762406260234,\n",
       " -0.42227608615833717,\n",
       " -0.5179290831822149,\n",
       " -0.45727971573099363,\n",
       " -0.34539210086031186,\n",
       " -0.4293647538850321,\n",
       " -0.5212929616972501,\n",
       " -0.5521428690500663,\n",
       " -0.4810180336661508,\n",
       " -0.39349968234648897,\n",
       " -0.5050709194146366,\n",
       " -0.34506495693966927,\n",
       " -0.354533865637542,\n",
       " -0.4512178095063736,\n",
       " -0.5584460874580446,\n",
       " -0.4087899408463381,\n",
       " -0.409792216250561,\n",
       " -0.4829174615060946,\n",
       " -0.4002574352339929,\n",
       " -0.4357778051107036,\n",
       " -0.5382718170360866,\n",
       " -0.5046815914180355,\n",
       " -0.5954729328443203,\n",
       " -0.4342735730938572,\n",
       " -0.3877196683893794,\n",
       " -0.39480808629205333,\n",
       " -0.5358480378400966,\n",
       " -0.4273718760887067,\n",
       " -0.4088579902063546,\n",
       " -0.4489086922945865,\n",
       " -0.35286120226119794,\n",
       " -0.42252834429610975,\n",
       " -0.3938446361540598,\n",
       " -0.48395468360802507,\n",
       " -0.5519353332766515,\n",
       " -0.4244995510632618,\n",
       " -0.504317042309587,\n",
       " -0.3648841042471249,\n",
       " -0.5186853634073098,\n",
       " -0.37346405512142694,\n",
       " -0.5374245088349152,\n",
       " -0.5999289628130822,\n",
       " -0.5471659559239822,\n",
       " -0.453145936446619,\n",
       " -0.2960681004656499,\n",
       " -0.24754430445578252,\n",
       " -0.4449338570280651,\n",
       " -0.6460420137084274,\n",
       " -0.31756668921784503,\n",
       " -0.22702546397489987,\n",
       " -0.43160126683884437,\n",
       " -0.3952099304359917,\n",
       " -0.53517663434796,\n",
       " -0.4595089322414557,\n",
       " -0.3665857807165187,\n",
       " -0.42961033989027,\n",
       " -0.5940765544610339,\n",
       " -0.4869961241881093,\n",
       " -0.3854938564580773,\n",
       " -0.43671501721702366,\n",
       " -0.42790895057488165,\n",
       " -0.46776943729163356,\n",
       " -0.47167525155888945,\n",
       " -0.4109876644678128,\n",
       " -0.3731568833642196,\n",
       " -0.3819397177172445,\n",
       " -0.3594458806020162,\n",
       " -0.541717370657062,\n",
       " -0.5037377433955131,\n",
       " -0.5305870186895802,\n",
       " -0.7750474189713569,\n",
       " -0.36801184493946437,\n",
       " -0.39781913155189935,\n",
       " -0.4628156888871002,\n",
       " -0.5957511356977925,\n",
       " -0.3086672892702042,\n",
       " -0.4723569867394288,\n",
       " -0.5353151739994203,\n",
       " -0.5707141684130681,\n",
       " -0.39626830450608524,\n",
       " -0.38989379625917137,\n",
       " -0.339588833787427,\n",
       " -0.5667557492703323,\n",
       " -0.4873830293708875,\n",
       " -0.33382071785648826,\n",
       " -0.42466452109755365,\n",
       " -0.5426822778514849,\n",
       " -0.5225722600415735,\n",
       " -0.5165997915045536,\n",
       " -0.47916140104859917,\n",
       " -0.4002149523696931,\n",
       " -0.5350167982598074,\n",
       " -0.5046775368923171,\n",
       " -0.4516180406049341,\n",
       " -0.4755875303442367,\n",
       " -0.36326162769556003,\n",
       " -0.5319327953727471,\n",
       " -0.4373928829751311,\n",
       " -0.5142601826886781,\n",
       " -0.35207678680223836,\n",
       " -0.5505663682812515,\n",
       " -0.480122387456347,\n",
       " -0.3944832638913825,\n",
       " -0.44095226925569253,\n",
       " -0.4547841073017561,\n",
       " -0.5773873519026845,\n",
       " -0.6053943946678909,\n",
       " -0.41720188144951015,\n",
       " -0.4892581719285511,\n",
       " -0.41474120512373985,\n",
       " -0.4863037270357032,\n",
       " -0.6464266837361359,\n",
       " -0.5080056848761333,\n",
       " -0.4464156199010524,\n",
       " -0.5861981929040845,\n",
       " -0.44197885897652667,\n",
       " -0.4132392990568847,\n",
       " -0.4968594603180171,\n",
       " -0.5597396408749229,\n",
       " -0.3979896090196378,\n",
       " -0.5731929610153931,\n",
       " -0.5253746062136698,\n",
       " -0.4756345824485124,\n",
       " -0.5275330690238904,\n",
       " -0.4804193225071759,\n",
       " -0.39091167394503745,\n",
       " -0.42061666767903766,\n",
       " -0.3627335045017835,\n",
       " -0.45894192467038253,\n",
       " -0.5415808726947619,\n",
       " -0.3822121907680246,\n",
       " -0.3429464315000819,\n",
       " -0.5271665229641903,\n",
       " -0.44644123500394844,\n",
       " -0.2956079971879549,\n",
       " -0.5411453572114624,\n",
       " -0.3442560229100705,\n",
       " -0.5049469555372752,\n",
       " -0.63296275192109,\n",
       " -0.38844133289171046,\n",
       " -0.2879668045376494,\n",
       " -0.40320879120206793,\n",
       " -0.5467313241112977,\n",
       " -0.4816538634187812,\n",
       " -0.5500658519370232,\n",
       " -0.25759748403122285,\n",
       " -0.4402974020297053,\n",
       " -0.36616215708361405,\n",
       " -0.4839041183944842,\n",
       " -0.5054285178070206,\n",
       " -0.5666335302955101,\n",
       " -0.2797382199733326,\n",
       " -0.5090553505943975,\n",
       " -0.4077599858768474,\n",
       " -0.44030945945419214,\n",
       " -0.46389764602600736,\n",
       " -0.5693289807579027,\n",
       " -0.4587090315645235,\n",
       " -0.4094674922614808,\n",
       " -0.40373524481025325,\n",
       " -0.2830019492329764,\n",
       " -0.3902709926420794,\n",
       " -0.49019792772669946,\n",
       " -0.5317220569216563,\n",
       " -0.5147449909244953,\n",
       " -0.4129195577379341,\n",
       " -0.46230776619898606,\n",
       " -0.46782256701969105,\n",
       " -0.4260708730561605,\n",
       " -0.493887009344636,\n",
       " -0.5191425447865647,\n",
       " -0.3970417826060147,\n",
       " -0.3070549030349644,\n",
       " -0.5558372478742435,\n",
       " -0.25717505525928663,\n",
       " -0.31272833710533804,\n",
       " -0.4648295229031951,\n",
       " -0.4936520727088332,\n",
       " -0.49766798375359333,\n",
       " -0.4389297392270891,\n",
       " -0.4766026414303424,\n",
       " -0.42199921252359246,\n",
       " -0.4942986867941875,\n",
       " -0.42745727298087693,\n",
       " -0.4009305915381762,\n",
       " -0.6111482184314143,\n",
       " -0.6019762841739057,\n",
       " -0.4465089341657071,\n",
       " -0.41155368648953283,\n",
       " -0.5018162681688119,\n",
       " -0.5243372601066832,\n",
       " -0.4995400374212136,\n",
       " -0.28991603098880103,\n",
       " -0.41834049764726855,\n",
       " -0.42694206462022044,\n",
       " -0.49740804601026195,\n",
       " -0.655005327559355,\n",
       " -0.4260460173926285,\n",
       " -0.32001879132368066,\n",
       " -0.5475178651852688,\n",
       " -0.37958950218755166,\n",
       " -0.40268991015439914,\n",
       " -0.5258143891191519,\n",
       " -0.5227369823429169,\n",
       " -0.5986609871273892,\n",
       " -0.36021661682214995,\n",
       " -0.46153472588363237,\n",
       " -0.6403244369264729,\n",
       " -0.46798191917223353,\n",
       " -0.4061713054745449,\n",
       " -0.3975528560148133,\n",
       " -0.6379702955915095,\n",
       " -0.48844282113895626,\n",
       " -0.5096784515304411,\n",
       " -0.46276497130766875,\n",
       " -0.4473250849119061,\n",
       " -0.3601243967096475,\n",
       " -0.5159150996211697,\n",
       " -0.49619068626161705,\n",
       " -0.4967785241300897,\n",
       " -0.3984673929572726,\n",
       " -0.3832909376651213,\n",
       " -0.37503746656934206,\n",
       " -0.563349015076513,\n",
       " -0.5777943006451158,\n",
       " -0.4560830154492669,\n",
       " -0.2841623741054869,\n",
       " -0.49215036284772434,\n",
       " -0.35167984476830527,\n",
       " -0.4221078129826294,\n",
       " -0.404780439058277,\n",
       " -0.412764044118468,\n",
       " -0.39013463027809814,\n",
       " -0.35461793611470976,\n",
       " -0.3368959048670537,\n",
       " -0.29946351323920706,\n",
       " -0.37425320420429975,\n",
       " -0.4707200913784206,\n",
       " -0.4439405545039376,\n",
       " -0.5768853574660808,\n",
       " -0.49662351980895175,\n",
       " -0.45703399448969156,\n",
       " -0.20869445329593111,\n",
       " -0.3241571330049277,\n",
       " -0.4830794196150679,\n",
       " -0.49495637911382623,\n",
       " -0.46683757024370653,\n",
       " -0.30609763330114403,\n",
       " -0.4153189466331686,\n",
       " -0.6009397466042797,\n",
       " -0.587200247165616,\n",
       " -0.4769595881125624,\n",
       " -0.36767768966028,\n",
       " -0.49837671430373953,\n",
       " -0.6542971333236992,\n",
       " -0.512180549425899,\n",
       " -0.5359566454426922,\n",
       " -0.4887949188182047,\n",
       " -0.49611660833135207,\n",
       " -0.4222561691762864,\n",
       " -0.5094991959426298,\n",
       " -0.4693476268143543,\n",
       " -0.48602354960924105,\n",
       " -0.5291301408507617,\n",
       " -0.49254965421760455,\n",
       " -0.3819722158273182,\n",
       " -0.30165463300473544,\n",
       " -0.3488457575180829,\n",
       " -0.5349534924544989,\n",
       " -0.6177173644085268,\n",
       " -0.4230415283545854,\n",
       " -0.41398308922054555,\n",
       " -0.5901561785402835,\n",
       " -0.2596095804591856,\n",
       " -0.42103149130349854,\n",
       " -0.4444867500106218,\n",
       " -0.377530775853798,\n",
       " -0.5526530403401255,\n",
       " -0.5410842111258216,\n",
       " -0.4729688687060353,\n",
       " -0.4157427621442363,\n",
       " -0.4527480398504978,\n",
       " -0.416578158987739,\n",
       " -0.6503004845353275,\n",
       " -0.7639071546826437,\n",
       " -0.3538546954156575,\n",
       " -0.4345413125393319,\n",
       " -0.5846018480995917,\n",
       " -0.40979956515472904,\n",
       " -0.43058626103236464,\n",
       " -0.43891597764886403,\n",
       " -0.3580680206961009,\n",
       " -0.4488101318086932,\n",
       " -0.5114155849742271,\n",
       " -0.510064956302376,\n",
       " -0.5226485333612445,\n",
       " -0.6420444899033662,\n",
       " -0.3049507266503413,\n",
       " -0.12930622230621897,\n",
       " -0.3140727898826596,\n",
       " ...]"
      ]
     },
     "execution_count": 90,
     "metadata": {},
     "output_type": "execute_result"
    }
   ],
   "source": [
    "lossList"
   ]
  },
  {
   "cell_type": "code",
   "execution_count": null,
   "metadata": {},
   "outputs": [],
   "source": []
  }
 ],
 "metadata": {
  "kernelspec": {
   "display_name": "Python 3 (ipykernel)",
   "language": "python",
   "name": "python3"
  },
  "language_info": {
   "codemirror_mode": {
    "name": "ipython",
    "version": 3
   },
   "file_extension": ".py",
   "mimetype": "text/x-python",
   "name": "python",
   "nbconvert_exporter": "python",
   "pygments_lexer": "ipython3",
   "version": "3.12.3"
  }
 },
 "nbformat": 4,
 "nbformat_minor": 4
}
