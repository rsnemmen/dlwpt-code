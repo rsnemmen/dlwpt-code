{
 "cells": [
  {
   "cell_type": "markdown",
   "id": "aa85cfd4-ed26-4d6b-938c-3eb6213bf7e1",
   "metadata": {},
   "source": [
    "Undestanding the number of parameters in a convolutional layer\n",
    "======================"
   ]
  },
  {
   "cell_type": "code",
   "execution_count": 3,
   "id": "ae602d86-2629-4b23-861a-03702cbe6f5b",
   "metadata": {},
   "outputs": [],
   "source": [
    "import torch\n",
    "import torch.nn as nn"
   ]
  },
  {
   "cell_type": "markdown",
   "id": "0732e092-a12b-4298-b9f9-329e2e5155ec",
   "metadata": {},
   "source": [
    "## Example 1\n",
    "\n",
    "### Model Architecture\n",
    "\n",
    "Take the following simple ConvNet model with only one convolutional layer:\n",
    "\n",
    "1. **Convolutional Layer (conv1)**\n",
    "    - Input channels: 3\n",
    "    - Output channels: 16\n",
    "    - Kernel size: 3x3\n",
    "    - Padding: 1\n",
    "\n",
    "2. **Fully Connected Layer 1 (fc1)**\n",
    "    - Input features: 16 * 16 * 16 (after pooling)\n",
    "    - Output features: 32\n",
    "\n",
    "3. **Fully Connected Layer 2 (fc2)**\n",
    "    - Input features: 32\n",
    "    - Output features: 2"
   ]
  },
  {
   "cell_type": "code",
   "execution_count": 5,
   "id": "ce473373-e12d-4f75-ae01-ee69f6d13277",
   "metadata": {},
   "outputs": [],
   "source": [
    "class SimpleNet(nn.Module):\n",
    "    def __init__(self):\n",
    "        super(SimpleNet, self).__init__()\n",
    "        self.conv1 = nn.Conv2d(3, 16, kernel_size=3, padding=1)\n",
    "        self.pool = nn.MaxPool2d(2)\n",
    "        self.fc1 = nn.Linear(16 * 16 * 16, 32)\n",
    "        self.fc2 = nn.Linear(32, 2)\n",
    "\n",
    "    def forward(self, x):\n",
    "        out = self.pool(F.tanh(self.conv1(x)))\n",
    "        out = out.view(-1, 16 * 16 * 16)\n",
    "        out = F.tanh(self.fc1(out))\n",
    "        out = self.fc2(out)\n",
    "        return out"
   ]
  },
  {
   "cell_type": "markdown",
   "id": "adb35503-cdf2-42f8-a77f-b377f13a7121",
   "metadata": {},
   "source": [
    "### Parameter Calculation\n",
    "\n",
    "How many parameters does it have?"
   ]
  },
  {
   "cell_type": "code",
   "execution_count": 6,
   "id": "f5fb5c73-f9cf-42e3-afda-9a70ff6e0010",
   "metadata": {},
   "outputs": [
    {
     "data": {
      "text/plain": [
       "(131618, [432, 16, 131072, 32, 64, 2])"
      ]
     },
     "execution_count": 6,
     "metadata": {},
     "output_type": "execute_result"
    }
   ],
   "source": [
    "model = SimpleNet()\n",
    "\n",
    "numel_list = [p.numel() for p in model.parameters()]\n",
    "sum(numel_list), numel_list"
   ]
  },
  {
   "cell_type": "markdown",
   "id": "673f6d03-45d1-4249-b5c4-f9879361597b",
   "metadata": {},
   "source": [
    "Let's break down the number of parameters estimate in `SimpleNet`.\n",
    "\n",
    "1. **Convolutional Layer (`conv1`)**: `self.conv1 = nn.Conv2d(3, 16, kernel_size=3, padding=1)`\n",
    "    - Number of parameters = (Number of filters) * (Channels per filter) * (Filter height) * (Filter width) + (Number of filters)\n",
    "    - Number of filters: 16\n",
    "    - Channels per filter: 3\n",
    "    - Filter height: 3\n",
    "    - Filter width: 3\n",
    "    - Biases: 16\n",
    "    - Total parameters: $16 \\times 3 \\times 3 \\times 3 + 16 = 16 \\times 27 + 16 = 448$\n",
    "\n",
    "2. **Fully Connected Layer 1 (`fc1`)**: `self.fc1 = nn.Linear(16 * 16 * 16, 32)`\n",
    "    - Number of parameters = (Input features) * (Output features) + (Output features)\n",
    "    - Input features: 16 * 16 * 16 = 4096\n",
    "    - Output features: 32\n",
    "    - Biases: 32\n",
    "    - Total parameters: $4096 \\times 32 + 32 = 131072 + 32 = 131104$\n",
    "\n",
    "3. **Fully Connected Layer 2 (`fc2`)**: `self.fc2 = nn.Linear(32, 2)`\n",
    "    - Number of parameters = (Input features) * (Output features) + (Output features)\n",
    "    - Input features: 32\n",
    "    - Output features: 2\n",
    "    - Biases: 2\n",
    "    - Total parameters: $32 \\times 2 + 2 = 64 + 2 = 66$\n",
    "\n",
    "### Total Number of Parameters\n",
    "\n",
    "Sum all the parameters from each layer:\n",
    "- Convolutional Layer (conv1): 448\n",
    "- Fully Connected Layer 1 (fc1): 131104\n",
    "- Fully Connected Layer 2 (fc2): 66\n",
    "\n",
    "Total parameters: $448 + 131104 + 66 = 131618$\n",
    "\n",
    "### Summary\n",
    "\n",
    "The simplified model `SimpleNet` has a total of **131618 parameters**."
   ]
  },
  {
   "cell_type": "markdown",
   "id": "8daa575a-7490-437a-8564-f50bff24c5a2",
   "metadata": {},
   "source": [
    "## Example 2\n",
    "\n",
    "Here is another example: \n",
    "\n",
    "    self.conv2 = nn.Conv2d(16, 8, kernel_size=3, padding=1)\n",
    "\n",
    "### Architecture\n",
    "\n",
    "- Input channels: 16\n",
    "- Output channels: 8\n",
    "- Kernel size: 3x3\n",
    "- Padding: 1\n",
    "\n",
    "### Parameter Calculation\n",
    "\n",
    "- Number of parameters = (Number of filters) * (Channels per filter) * (Filter height) * (Filter width) + (Number of filters)\n",
    "- Number of filters: 8\n",
    "- Channels per filter: 16\n",
    "- Filter height: 3\n",
    "- Filter width: 3\n",
    "- Biases: 8\n",
    "\n",
    "Total parameters: $8 \\times 16 \\times 3 \\times 3 + 8 = 8 \\times 144 + 8 = 1152 + 8 = 1160$"
   ]
  },
  {
   "cell_type": "code",
   "execution_count": null,
   "id": "92d80b14-328a-41f2-a9d4-2eeebb6691f8",
   "metadata": {},
   "outputs": [],
   "source": []
  }
 ],
 "metadata": {
  "kernelspec": {
   "display_name": "Python 3 (ipykernel)",
   "language": "python",
   "name": "python3"
  },
  "language_info": {
   "codemirror_mode": {
    "name": "ipython",
    "version": 3
   },
   "file_extension": ".py",
   "mimetype": "text/x-python",
   "name": "python",
   "nbconvert_exporter": "python",
   "pygments_lexer": "ipython3",
   "version": "3.11.8"
  }
 },
 "nbformat": 4,
 "nbformat_minor": 5
}
